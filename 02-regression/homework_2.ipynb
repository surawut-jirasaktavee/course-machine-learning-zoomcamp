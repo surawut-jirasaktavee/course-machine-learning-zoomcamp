{
 "cells": [
  {
   "cell_type": "markdown",
   "id": "bc13d737",
   "metadata": {},
   "source": [
    "# House Price Predicitons\n",
    "\n",
    "This is the homework of 02-regression from machine learning zoomcamp"
   ]
  },
  {
   "cell_type": "markdown",
   "id": "bf4fe2af",
   "metadata": {},
   "source": [
    "## Goal\n",
    "\n",
    "The goal of this homework is to create a regression model for predicting housing prices from the column `median_house_value`."
   ]
  },
  {
   "cell_type": "markdown",
   "id": "fabe3fd0",
   "metadata": {},
   "source": [
    "## Dataset\n",
    "\n",
    "The dataset for this homework will use California Housing Prices from [Kaggle](https://www.kaggle.com/datasets/camnugent/california-housing-prices)\n",
    "\n",
    "The link below to download with the `wget` command:\n",
    "(https://raw.githubusercontent.com/alexeygrigorev/datasets/master/housing.csv)"
   ]
  },
  {
   "cell_type": "markdown",
   "id": "51a85c2a",
   "metadata": {},
   "source": [
    "## Libraries"
   ]
  },
  {
   "cell_type": "code",
   "execution_count": 1,
   "id": "81f5b889",
   "metadata": {},
   "outputs": [],
   "source": [
    "from pathlib import Path\n",
    "\n",
    "import numpy as np\n",
    "import pandas as pd\n",
    "\n",
    "import matplotlib.pyplot as plt\n",
    "import seaborn as sns\n",
    "\n",
    "%matplotlib inline"
   ]
  },
  {
   "cell_type": "markdown",
   "id": "1f999986",
   "metadata": {},
   "source": [
    "### Download dataset"
   ]
  },
  {
   "cell_type": "code",
   "execution_count": 6,
   "id": "163c2404",
   "metadata": {},
   "outputs": [
    {
     "name": "stdout",
     "output_type": "stream",
     "text": [
      "Downloading dataset...\n",
      "mkdir: dataset: File exists\n",
      "--2022-09-19 21:44:36--  https://raw.githubusercontent.com/alexeygrigorev/datasets/master/housing.csv\n",
      "Resolving raw.githubusercontent.com (raw.githubusercontent.com)... 2606:50c0:8003::154, 2606:50c0:8000::154, 2606:50c0:8001::154, ...\n",
      "Connecting to raw.githubusercontent.com (raw.githubusercontent.com)|2606:50c0:8003::154|:443... connected.\n",
      "HTTP request sent, awaiting response... 200 OK\n",
      "Length: 1423529 (1.4M) [text/plain]\n",
      "Saving to: ‘housing.csv’\n",
      "\n",
      "housing.csv         100%[===================>]   1.36M   618KB/s    in 2.2s    \n",
      "\n",
      "2022-09-19 21:44:39 (618 KB/s) - ‘housing.csv’ saved [1423529/1423529]\n",
      "\n"
     ]
    }
   ],
   "source": [
    "if not Path('housing.csv').is_file:\n",
    "    print('File exist')\n",
    "else:\n",
    "    print('Downloading dataset...')\n",
    "    !mkdir dataset\n",
    "    !wget https://raw.githubusercontent.com/alexeygrigorev/datasets/master/housing.csv\n",
    "    !mv housing.csv ./dataset/    "
   ]
  },
  {
   "cell_type": "markdown",
   "id": "d8eba064",
   "metadata": {},
   "source": [
    "## EDA\n",
    "\n",
    "Now, Our dataset is downloaded and save in the dataset folder with the name `housing.csv`. \n",
    "\n",
    "Use the `Pandas` to read csv dataset as DataFrame. \n",
    "\n",
    "In this past will do the following EDA.\n",
    "\n",
    "- Load the data\n",
    "- Look at the `median_house_value` variable. Does it have a long tail?"
   ]
  },
  {
   "cell_type": "code",
   "execution_count": 206,
   "id": "c1f71959",
   "metadata": {},
   "outputs": [
    {
     "data": {
      "text/html": [
       "<div>\n",
       "<style scoped>\n",
       "    .dataframe tbody tr th:only-of-type {\n",
       "        vertical-align: middle;\n",
       "    }\n",
       "\n",
       "    .dataframe tbody tr th {\n",
       "        vertical-align: top;\n",
       "    }\n",
       "\n",
       "    .dataframe thead th {\n",
       "        text-align: right;\n",
       "    }\n",
       "</style>\n",
       "<table border=\"1\" class=\"dataframe\">\n",
       "  <thead>\n",
       "    <tr style=\"text-align: right;\">\n",
       "      <th></th>\n",
       "      <th>longitude</th>\n",
       "      <th>latitude</th>\n",
       "      <th>housing_median_age</th>\n",
       "      <th>total_rooms</th>\n",
       "      <th>total_bedrooms</th>\n",
       "      <th>population</th>\n",
       "      <th>households</th>\n",
       "      <th>median_income</th>\n",
       "      <th>median_house_value</th>\n",
       "      <th>ocean_proximity</th>\n",
       "    </tr>\n",
       "  </thead>\n",
       "  <tbody>\n",
       "    <tr>\n",
       "      <th>0</th>\n",
       "      <td>-122.23</td>\n",
       "      <td>37.88</td>\n",
       "      <td>41.0</td>\n",
       "      <td>880.0</td>\n",
       "      <td>129.0</td>\n",
       "      <td>322.0</td>\n",
       "      <td>126.0</td>\n",
       "      <td>8.3252</td>\n",
       "      <td>452600.0</td>\n",
       "      <td>NEAR BAY</td>\n",
       "    </tr>\n",
       "    <tr>\n",
       "      <th>1</th>\n",
       "      <td>-122.22</td>\n",
       "      <td>37.86</td>\n",
       "      <td>21.0</td>\n",
       "      <td>7099.0</td>\n",
       "      <td>1106.0</td>\n",
       "      <td>2401.0</td>\n",
       "      <td>1138.0</td>\n",
       "      <td>8.3014</td>\n",
       "      <td>358500.0</td>\n",
       "      <td>NEAR BAY</td>\n",
       "    </tr>\n",
       "    <tr>\n",
       "      <th>2</th>\n",
       "      <td>-122.24</td>\n",
       "      <td>37.85</td>\n",
       "      <td>52.0</td>\n",
       "      <td>1467.0</td>\n",
       "      <td>190.0</td>\n",
       "      <td>496.0</td>\n",
       "      <td>177.0</td>\n",
       "      <td>7.2574</td>\n",
       "      <td>352100.0</td>\n",
       "      <td>NEAR BAY</td>\n",
       "    </tr>\n",
       "    <tr>\n",
       "      <th>3</th>\n",
       "      <td>-122.25</td>\n",
       "      <td>37.85</td>\n",
       "      <td>52.0</td>\n",
       "      <td>1274.0</td>\n",
       "      <td>235.0</td>\n",
       "      <td>558.0</td>\n",
       "      <td>219.0</td>\n",
       "      <td>5.6431</td>\n",
       "      <td>341300.0</td>\n",
       "      <td>NEAR BAY</td>\n",
       "    </tr>\n",
       "    <tr>\n",
       "      <th>4</th>\n",
       "      <td>-122.25</td>\n",
       "      <td>37.85</td>\n",
       "      <td>52.0</td>\n",
       "      <td>1627.0</td>\n",
       "      <td>280.0</td>\n",
       "      <td>565.0</td>\n",
       "      <td>259.0</td>\n",
       "      <td>3.8462</td>\n",
       "      <td>342200.0</td>\n",
       "      <td>NEAR BAY</td>\n",
       "    </tr>\n",
       "  </tbody>\n",
       "</table>\n",
       "</div>"
      ],
      "text/plain": [
       "   longitude  latitude  housing_median_age  total_rooms  total_bedrooms  \\\n",
       "0    -122.23     37.88                41.0        880.0           129.0   \n",
       "1    -122.22     37.86                21.0       7099.0          1106.0   \n",
       "2    -122.24     37.85                52.0       1467.0           190.0   \n",
       "3    -122.25     37.85                52.0       1274.0           235.0   \n",
       "4    -122.25     37.85                52.0       1627.0           280.0   \n",
       "\n",
       "   population  households  median_income  median_house_value ocean_proximity  \n",
       "0       322.0       126.0         8.3252            452600.0        NEAR BAY  \n",
       "1      2401.0      1138.0         8.3014            358500.0        NEAR BAY  \n",
       "2       496.0       177.0         7.2574            352100.0        NEAR BAY  \n",
       "3       558.0       219.0         5.6431            341300.0        NEAR BAY  \n",
       "4       565.0       259.0         3.8462            342200.0        NEAR BAY  "
      ]
     },
     "execution_count": 206,
     "metadata": {},
     "output_type": "execute_result"
    }
   ],
   "source": [
    "# Read data and show first five rows.\n",
    "df = pd.read_csv('./dataset/housing.csv')\n",
    "df.head()"
   ]
  },
  {
   "cell_type": "code",
   "execution_count": 207,
   "id": "80966acf",
   "metadata": {},
   "outputs": [
    {
     "name": "stdout",
     "output_type": "stream",
     "text": [
      "this dataset has 20640 rows and 10 columns\n"
     ]
    }
   ],
   "source": [
    "# Check the number of rows and columns in the dataframe.\n",
    "shape = df.shape\n",
    "print(f\"this dataset has {shape[0]} rows and {shape[1]} columns\")"
   ]
  },
  {
   "cell_type": "code",
   "execution_count": 208,
   "id": "8cb4ad2b",
   "metadata": {},
   "outputs": [
    {
     "data": {
      "text/plain": [
       "longitude             float64\n",
       "latitude              float64\n",
       "housing_median_age    float64\n",
       "total_rooms           float64\n",
       "total_bedrooms        float64\n",
       "population            float64\n",
       "households            float64\n",
       "median_income         float64\n",
       "median_house_value    float64\n",
       "ocean_proximity        object\n",
       "dtype: object"
      ]
     },
     "execution_count": 208,
     "metadata": {},
     "output_type": "execute_result"
    }
   ],
   "source": [
    "# Check datatype.\n",
    "df.dtypes"
   ]
  },
  {
   "cell_type": "markdown",
   "id": "4191bc25",
   "metadata": {},
   "source": [
    "Most columns are numeric except `ocean_proximity` column. "
   ]
  },
  {
   "cell_type": "code",
   "execution_count": 209,
   "id": "9c25528d",
   "metadata": {},
   "outputs": [
    {
     "data": {
      "image/png": "[encoded data removed]",
      "text/plain": [
       "<Figure size 640x480 with 1 Axes>"
      ]
     },
     "metadata": {},
     "output_type": "display_data"
    }
   ],
   "source": [
    "# Look at `median_house_value` variable\n",
    "sns.histplot(df['median_house_value'], color='blue')\n",
    "plt.show()"
   ]
  },
  {
   "cell_type": "markdown",
   "id": "c4bbd467",
   "metadata": {},
   "source": [
    "The distribution is not like a normal distribution for the `median_house_value` column. It's look like long tail."
   ]
  },
  {
   "cell_type": "markdown",
   "id": "99687232",
   "metadata": {},
   "source": [
    "## Features\n",
    "\n",
    "Let's drop the column that don't neccessary for this homework. That's `ocean_proximity` column."
   ]
  },
  {
   "cell_type": "code",
   "execution_count": 210,
   "id": "17176b80",
   "metadata": {},
   "outputs": [
    {
     "data": {
      "text/html": [
       "<div>\n",
       "<style scoped>\n",
       "    .dataframe tbody tr th:only-of-type {\n",
       "        vertical-align: middle;\n",
       "    }\n",
       "\n",
       "    .dataframe tbody tr th {\n",
       "        vertical-align: top;\n",
       "    }\n",
       "\n",
       "    .dataframe thead th {\n",
       "        text-align: right;\n",
       "    }\n",
       "</style>\n",
       "<table border=\"1\" class=\"dataframe\">\n",
       "  <thead>\n",
       "    <tr style=\"text-align: right;\">\n",
       "      <th></th>\n",
       "      <th>longitude</th>\n",
       "      <th>latitude</th>\n",
       "      <th>housing_median_age</th>\n",
       "      <th>total_rooms</th>\n",
       "      <th>total_bedrooms</th>\n",
       "      <th>population</th>\n",
       "      <th>households</th>\n",
       "      <th>median_income</th>\n",
       "      <th>median_house_value</th>\n",
       "    </tr>\n",
       "  </thead>\n",
       "  <tbody>\n",
       "    <tr>\n",
       "      <th>0</th>\n",
       "      <td>-122.23</td>\n",
       "      <td>37.88</td>\n",
       "      <td>41.0</td>\n",
       "      <td>880.0</td>\n",
       "      <td>129.0</td>\n",
       "      <td>322.0</td>\n",
       "      <td>126.0</td>\n",
       "      <td>8.3252</td>\n",
       "      <td>452600.0</td>\n",
       "    </tr>\n",
       "    <tr>\n",
       "      <th>1</th>\n",
       "      <td>-122.22</td>\n",
       "      <td>37.86</td>\n",
       "      <td>21.0</td>\n",
       "      <td>7099.0</td>\n",
       "      <td>1106.0</td>\n",
       "      <td>2401.0</td>\n",
       "      <td>1138.0</td>\n",
       "      <td>8.3014</td>\n",
       "      <td>358500.0</td>\n",
       "    </tr>\n",
       "    <tr>\n",
       "      <th>2</th>\n",
       "      <td>-122.24</td>\n",
       "      <td>37.85</td>\n",
       "      <td>52.0</td>\n",
       "      <td>1467.0</td>\n",
       "      <td>190.0</td>\n",
       "      <td>496.0</td>\n",
       "      <td>177.0</td>\n",
       "      <td>7.2574</td>\n",
       "      <td>352100.0</td>\n",
       "    </tr>\n",
       "    <tr>\n",
       "      <th>3</th>\n",
       "      <td>-122.25</td>\n",
       "      <td>37.85</td>\n",
       "      <td>52.0</td>\n",
       "      <td>1274.0</td>\n",
       "      <td>235.0</td>\n",
       "      <td>558.0</td>\n",
       "      <td>219.0</td>\n",
       "      <td>5.6431</td>\n",
       "      <td>341300.0</td>\n",
       "    </tr>\n",
       "    <tr>\n",
       "      <th>4</th>\n",
       "      <td>-122.25</td>\n",
       "      <td>37.85</td>\n",
       "      <td>52.0</td>\n",
       "      <td>1627.0</td>\n",
       "      <td>280.0</td>\n",
       "      <td>565.0</td>\n",
       "      <td>259.0</td>\n",
       "      <td>3.8462</td>\n",
       "      <td>342200.0</td>\n",
       "    </tr>\n",
       "  </tbody>\n",
       "</table>\n",
       "</div>"
      ],
      "text/plain": [
       "   longitude  latitude  housing_median_age  total_rooms  total_bedrooms  \\\n",
       "0    -122.23     37.88                41.0        880.0           129.0   \n",
       "1    -122.22     37.86                21.0       7099.0          1106.0   \n",
       "2    -122.24     37.85                52.0       1467.0           190.0   \n",
       "3    -122.25     37.85                52.0       1274.0           235.0   \n",
       "4    -122.25     37.85                52.0       1627.0           280.0   \n",
       "\n",
       "   population  households  median_income  median_house_value  \n",
       "0       322.0       126.0         8.3252            452600.0  \n",
       "1      2401.0      1138.0         8.3014            358500.0  \n",
       "2       496.0       177.0         7.2574            352100.0  \n",
       "3       558.0       219.0         5.6431            341300.0  \n",
       "4       565.0       259.0         3.8462            342200.0  "
      ]
     },
     "execution_count": 210,
     "metadata": {},
     "output_type": "execute_result"
    }
   ],
   "source": [
    "# Drop column from dataframe and show first five rows.\n",
    "df = df.drop(columns='ocean_proximity', axis=1)\n",
    "df.head()"
   ]
  },
  {
   "cell_type": "markdown",
   "id": "eb95dc1d",
   "metadata": {},
   "source": [
    "### Question 1\n",
    "\n",
    "Find a feature with missing values. How many missing values does it have?"
   ]
  },
  {
   "cell_type": "code",
   "execution_count": 211,
   "id": "d5e5305f",
   "metadata": {},
   "outputs": [
    {
     "data": {
      "text/plain": [
       "longitude               0\n",
       "latitude                0\n",
       "housing_median_age      0\n",
       "total_rooms             0\n",
       "total_bedrooms        207\n",
       "population              0\n",
       "households              0\n",
       "median_income           0\n",
       "median_house_value      0\n",
       "dtype: int64"
      ]
     },
     "execution_count": 211,
     "metadata": {},
     "output_type": "execute_result"
    }
   ],
   "source": [
    "df.isnull().sum()"
   ]
  },
  {
   "cell_type": "markdown",
   "id": "793b9ea7",
   "metadata": {},
   "source": [
    "The `total_bedrooms` columns has missing values about 207 columns."
   ]
  },
  {
   "cell_type": "markdown",
   "id": "1d5f61ee",
   "metadata": {},
   "source": [
    "### Question 2\n",
    "What's the median (50% percentile) for variable `population`?"
   ]
  },
  {
   "cell_type": "code",
   "execution_count": 212,
   "id": "a330f00d",
   "metadata": {},
   "outputs": [
    {
     "name": "stdout",
     "output_type": "stream",
     "text": [
      "The median for population is: 1166\n"
     ]
    }
   ],
   "source": [
    "pop_median = df['population'].median()\n",
    "print(f\"The median for population is: {int(pop_median)}\")"
   ]
  },
  {
   "cell_type": "markdown",
   "id": "73a1cc4c",
   "metadata": {},
   "source": [
    "### Split the data\n",
    "\n",
    "- Shuffle the initial dataset, use seed 42\n",
    "- Split your data in train/val/test sets, with 60%/20%/20% distribution.\n",
    "- Make sure that the target value (`median_house_value`) is not in your dataframe\n",
    "- Apply the log transformation to the `median_house_value` variable using `np.log1p()` function."
   ]
  },
  {
   "cell_type": "code",
   "execution_count": 213,
   "id": "167f0fe3",
   "metadata": {},
   "outputs": [],
   "source": [
    "# set the random seed for reproducible purpose.\n",
    "np.random.seed(42)\n",
    "\n",
    "# create array of index that equal to the number of rows in our dataframe.\n",
    "idx = np.arange(df.shape[0])\n",
    "np.random.shuffle(idx) # Shuffle the index"
   ]
  },
  {
   "cell_type": "code",
   "execution_count": 214,
   "id": "30d115ec",
   "metadata": {},
   "outputs": [
    {
     "name": "stdout",
     "output_type": "stream",
     "text": [
      "train dataset: 12384\n",
      "val dataset: 4128\n",
      "test dataset: 4128\n"
     ]
    }
   ],
   "source": [
    "# Check the number of rows again from the dataframe\n",
    "n = len(df)\n",
    "\n",
    "test_num = int(n * .2)\n",
    "val_num = int(n * .2)\n",
    "train_num = n - test_num - val_num\n",
    "\n",
    "print(f\"train dataset: {train_num}\")\n",
    "print(f\"val dataset: {val_num}\")\n",
    "print(f\"test dataset: {test_num}\")\n",
    "\n",
    "dataset_num = train_num + val_num + test_num\n",
    "assert(dataset_num == n)"
   ]
  },
  {
   "cell_type": "code",
   "execution_count": 215,
   "id": "414da0a5",
   "metadata": {},
   "outputs": [
    {
     "data": {
      "text/html": [
       "<div>\n",
       "<style scoped>\n",
       "    .dataframe tbody tr th:only-of-type {\n",
       "        vertical-align: middle;\n",
       "    }\n",
       "\n",
       "    .dataframe tbody tr th {\n",
       "        vertical-align: top;\n",
       "    }\n",
       "\n",
       "    .dataframe thead th {\n",
       "        text-align: right;\n",
       "    }\n",
       "</style>\n",
       "<table border=\"1\" class=\"dataframe\">\n",
       "  <thead>\n",
       "    <tr style=\"text-align: right;\">\n",
       "      <th></th>\n",
       "      <th>longitude</th>\n",
       "      <th>latitude</th>\n",
       "      <th>housing_median_age</th>\n",
       "      <th>total_rooms</th>\n",
       "      <th>total_bedrooms</th>\n",
       "      <th>population</th>\n",
       "      <th>households</th>\n",
       "      <th>median_income</th>\n",
       "      <th>median_house_value</th>\n",
       "    </tr>\n",
       "  </thead>\n",
       "  <tbody>\n",
       "    <tr>\n",
       "      <th>0</th>\n",
       "      <td>-119.01</td>\n",
       "      <td>36.06</td>\n",
       "      <td>25.0</td>\n",
       "      <td>1505.0</td>\n",
       "      <td>NaN</td>\n",
       "      <td>1392.0</td>\n",
       "      <td>359.0</td>\n",
       "      <td>1.6812</td>\n",
       "      <td>47700.0</td>\n",
       "    </tr>\n",
       "    <tr>\n",
       "      <th>1</th>\n",
       "      <td>-119.46</td>\n",
       "      <td>35.14</td>\n",
       "      <td>30.0</td>\n",
       "      <td>2943.0</td>\n",
       "      <td>NaN</td>\n",
       "      <td>1565.0</td>\n",
       "      <td>584.0</td>\n",
       "      <td>2.5313</td>\n",
       "      <td>45800.0</td>\n",
       "    </tr>\n",
       "    <tr>\n",
       "      <th>2</th>\n",
       "      <td>-122.44</td>\n",
       "      <td>37.80</td>\n",
       "      <td>52.0</td>\n",
       "      <td>3830.0</td>\n",
       "      <td>NaN</td>\n",
       "      <td>1310.0</td>\n",
       "      <td>963.0</td>\n",
       "      <td>3.4801</td>\n",
       "      <td>500001.0</td>\n",
       "    </tr>\n",
       "    <tr>\n",
       "      <th>3</th>\n",
       "      <td>-118.72</td>\n",
       "      <td>34.28</td>\n",
       "      <td>17.0</td>\n",
       "      <td>3051.0</td>\n",
       "      <td>NaN</td>\n",
       "      <td>1705.0</td>\n",
       "      <td>495.0</td>\n",
       "      <td>5.7376</td>\n",
       "      <td>218600.0</td>\n",
       "    </tr>\n",
       "    <tr>\n",
       "      <th>4</th>\n",
       "      <td>-121.93</td>\n",
       "      <td>36.62</td>\n",
       "      <td>34.0</td>\n",
       "      <td>2351.0</td>\n",
       "      <td>NaN</td>\n",
       "      <td>1063.0</td>\n",
       "      <td>428.0</td>\n",
       "      <td>3.7250</td>\n",
       "      <td>278000.0</td>\n",
       "    </tr>\n",
       "  </tbody>\n",
       "</table>\n",
       "</div>"
      ],
      "text/plain": [
       "   longitude  latitude  housing_median_age  total_rooms  total_bedrooms  \\\n",
       "0    -119.01     36.06                25.0       1505.0             NaN   \n",
       "1    -119.46     35.14                30.0       2943.0             NaN   \n",
       "2    -122.44     37.80                52.0       3830.0             NaN   \n",
       "3    -118.72     34.28                17.0       3051.0             NaN   \n",
       "4    -121.93     36.62                34.0       2351.0             NaN   \n",
       "\n",
       "   population  households  median_income  median_house_value  \n",
       "0      1392.0       359.0         1.6812             47700.0  \n",
       "1      1565.0       584.0         2.5313             45800.0  \n",
       "2      1310.0       963.0         3.4801            500001.0  \n",
       "3      1705.0       495.0         5.7376            218600.0  \n",
       "4      1063.0       428.0         3.7250            278000.0  "
      ]
     },
     "execution_count": 215,
     "metadata": {},
     "output_type": "execute_result"
    }
   ],
   "source": [
    "# Split and shuffle the dataset into train, validate, and test and reset the index\n",
    "df_train = df.iloc[idx[:train_num]].reset_index(drop=True)\n",
    "df_val = df.iloc[idx[train_num:train_num + val_num]].reset_index(drop=True)\n",
    "df_test = df.iloc[idx[train_num + val_num:]].reset_index(drop=True)\n",
    "\n",
    "df_train.head()\n"
   ]
  },
  {
   "cell_type": "code",
   "execution_count": 216,
   "id": "6b595ba2",
   "metadata": {},
   "outputs": [
    {
     "name": "stdout",
     "output_type": "stream",
     "text": [
      "example of target values from train dataset\n"
     ]
    },
    {
     "data": {
      "text/plain": [
       "array([ 47700.,  45800., 500001., ..., 146800., 151800., 420300.])"
      ]
     },
     "execution_count": 216,
     "metadata": {},
     "output_type": "execute_result"
    }
   ],
   "source": [
    "# Create the target variable for train, validate, and test.\n",
    "y_train = df_train['median_house_value'].values\n",
    "y_val = df_val['median_house_value'].values\n",
    "y_test = df_test['median_house_value'].values\n",
    "\n",
    "print('example of target values from train dataset')\n",
    "y_train"
   ]
  },
  {
   "cell_type": "code",
   "execution_count": 217,
   "id": "5e4b78e2",
   "metadata": {},
   "outputs": [],
   "source": [
    "# Clear the target variable from the other features.\n",
    "del df_train['median_house_value']\n",
    "del df_val['median_house_value']\n",
    "del df_test['median_house_value']"
   ]
  },
  {
   "cell_type": "code",
   "execution_count": 218,
   "id": "b254555d",
   "metadata": {},
   "outputs": [
    {
     "name": "stdout",
     "output_type": "stream",
     "text": [
      "example of the target values after log transformation\n"
     ]
    },
    {
     "data": {
      "text/plain": [
       "array([10.77270764, 10.7320612 , 13.12236738, ..., 11.89683321,\n",
       "       11.93032573, 12.9487264 ])"
      ]
     },
     "execution_count": 218,
     "metadata": {},
     "output_type": "execute_result"
    }
   ],
   "source": [
    "# Apply log transformation to the `median_house_value` column\n",
    "y_train = np.log1p(y_train)\n",
    "y_val = np.log1p(y_val)\n",
    "y_test = np.log1p(y_test)\n",
    "\n",
    "print('example of the target values after log transformation')\n",
    "y_train"
   ]
  },
  {
   "cell_type": "markdown",
   "id": "e4a20d80",
   "metadata": {},
   "source": [
    "### Question 3\n",
    "\n",
    "- We need to deal with missing values for the columne from Q1\n",
    "- We have to options\n",
    "    - fill it with 0\n",
    "    - the mean of this variable\n",
    "- Try both options for each train a linear regression model without regularization using the code from the lessons.\n",
    "- For computing the mean, use the training only.\n",
    "- Use the validation dataset to evaluate the models and compare the RMSE of each option.\n",
    "- Round the RMSE scores to 2 decimal digits using `round(score, 2)\n",
    "- Which option gives better RMSE?\n",
    "\n",
    "Options: \n",
    "\n",
    "- With 0\n",
    "- With mean\n",
    "- Both are equaly good"
   ]
  },
  {
   "cell_type": "markdown",
   "id": "ef394bf7",
   "metadata": {},
   "source": [
    "### Prepare dataset"
   ]
  },
  {
   "cell_type": "code",
   "execution_count": 219,
   "id": "a18a81ac",
   "metadata": {},
   "outputs": [],
   "source": [
    "# Create function to prepare X with the option to handle with missing values.\n",
    "def prepare_X(df: pd.DataFrame, options :str=None):\n",
    "    \n",
    "    '''\n",
    "    Get the dataframe and make the copy of dataframe then use the copy one.\n",
    "    to handle the missing values from the column with the 2 different methods\n",
    "    and return X\n",
    "    '''\n",
    "    \n",
    "    df = df.copy() # make the copy\n",
    "    if options == 0: # fill na with 0 value\n",
    "        df['total_bedrooms'] = df['total_bedrooms'].fillna(0)\n",
    "        X = df.values\n",
    "    elif options == 'mean': # fill na with mean of the variable\n",
    "        mean = df['total_bedrooms'].mean()\n",
    "        df['total_bedrooms'] = df['total_bedrooms'].fillna(mean)\n",
    "        X = df.values\n",
    "    else: # do noting\n",
    "        X = df.values\n",
    "    \n",
    "    return X"
   ]
  },
  {
   "cell_type": "code",
   "execution_count": 220,
   "id": "5e49d282",
   "metadata": {},
   "outputs": [
    {
     "name": "stdout",
     "output_type": "stream",
     "text": [
      "The function is works\n",
      "[[-1.1901e+02  3.6060e+01  2.5000e+01  1.5050e+03  0.0000e+00  1.3920e+03\n",
      "   3.5900e+02  1.6812e+00]\n",
      " [-1.1946e+02  3.5140e+01  3.0000e+01  2.9430e+03  0.0000e+00  1.5650e+03\n",
      "   5.8400e+02  2.5313e+00]\n",
      " [-1.2244e+02  3.7800e+01  5.2000e+01  3.8300e+03  0.0000e+00  1.3100e+03\n",
      "   9.6300e+02  3.4801e+00]\n",
      " [-1.1872e+02  3.4280e+01  1.7000e+01  3.0510e+03  0.0000e+00  1.7050e+03\n",
      "   4.9500e+02  5.7376e+00]\n",
      " [-1.2193e+02  3.6620e+01  3.4000e+01  2.3510e+03  0.0000e+00  1.0630e+03\n",
      "   4.2800e+02  3.7250e+00]]\n"
     ]
    }
   ],
   "source": [
    "# Apply the function to train set with 0 metohd and check the result\n",
    "X_train_0 = prepare_X(df_train, options=0)\n",
    "if np.isnan(X_train_0.any()) == False:\n",
    "    print('The function is works')\n",
    "    print(X_train_0[:5])\n",
    "else:\n",
    "    print('Please check the function again')"
   ]
  },
  {
   "cell_type": "code",
   "execution_count": 221,
   "id": "4f1c148a",
   "metadata": {},
   "outputs": [
    {
     "name": "stdout",
     "output_type": "stream",
     "text": [
      "The function is works\n",
      "[[-1.19010000e+02  3.60600000e+01  2.50000000e+01  1.50500000e+03\n",
      "   5.33480332e+02  1.39200000e+03  3.59000000e+02  1.68120000e+00]\n",
      " [-1.19460000e+02  3.51400000e+01  3.00000000e+01  2.94300000e+03\n",
      "   5.33480332e+02  1.56500000e+03  5.84000000e+02  2.53130000e+00]\n",
      " [-1.22440000e+02  3.78000000e+01  5.20000000e+01  3.83000000e+03\n",
      "   5.33480332e+02  1.31000000e+03  9.63000000e+02  3.48010000e+00]\n",
      " [-1.18720000e+02  3.42800000e+01  1.70000000e+01  3.05100000e+03\n",
      "   5.33480332e+02  1.70500000e+03  4.95000000e+02  5.73760000e+00]\n",
      " [-1.21930000e+02  3.66200000e+01  3.40000000e+01  2.35100000e+03\n",
      "   5.33480332e+02  1.06300000e+03  4.28000000e+02  3.72500000e+00]]\n"
     ]
    }
   ],
   "source": [
    "# Apply the function to train set with mean method and check the result\n",
    "X_train_mean = prepare_X(df_train, options='mean')\n",
    "if np.isnan(X_train_0.any()) == False:\n",
    "    print('The function is works')\n",
    "    print(X_train_mean[:5])\n",
    "else:\n",
    "    print('Please check the function again')"
   ]
  },
  {
   "cell_type": "markdown",
   "id": "0386cee7",
   "metadata": {},
   "source": [
    "### Training"
   ]
  },
  {
   "cell_type": "code",
   "execution_count": 258,
   "id": "32e948a8",
   "metadata": {},
   "outputs": [],
   "source": [
    "def linear_regression(X, y):\n",
    "    \n",
    "    '''\n",
    "    Get X, y and create the linear regression function\n",
    "    return the first weight and the rest as separate value\n",
    "    '''\n",
    "    ones = np.ones(X.shape[0])\n",
    "    \n",
    "    X = np.column_stack([ones, X])\n",
    "    XTX = X.T.dot(X)\n",
    "    XTX_inv = np.linalg.inv(XTX)\n",
    "    w_full = XTX_inv.dot(X.T).dot(y)\n",
    "    \n",
    "    return w_full[0], w_full[1:]"
   ]
  },
  {
   "cell_type": "code",
   "execution_count": 259,
   "id": "288aface",
   "metadata": {},
   "outputs": [
    {
     "data": {
      "text/plain": [
       "(-11.68697524167803,\n",
       " array([-2.76255120e-01, -2.82087184e-01,  2.91329621e-03, -8.64531514e-06,\n",
       "         1.50811922e-04, -2.08205659e-04,  5.69546573e-04,  1.71308139e-01]))"
      ]
     },
     "execution_count": 259,
     "metadata": {},
     "output_type": "execute_result"
    }
   ],
   "source": [
    "# Train the model with the zero method\n",
    "w0_zero, ws_zero = linear_regression(X_train_0, y_train)\n",
    "w0_zero, ws_zero"
   ]
  },
  {
   "cell_type": "code",
   "execution_count": 224,
   "id": "0c04367d",
   "metadata": {},
   "outputs": [
    {
     "data": {
      "text/plain": [
       "(-11.759590872104194,\n",
       " array([-2.76809637e-01, -2.82182103e-01,  2.93033801e-03, -1.48543785e-05,\n",
       "         2.48054046e-04, -2.03763456e-04,  4.87004092e-04,  1.73086593e-01]))"
      ]
     },
     "execution_count": 224,
     "metadata": {},
     "output_type": "execute_result"
    }
   ],
   "source": [
    "# Train the model with the mean method\n",
    "w0_mean, ws_mean = linear_regression(X_train_mean, y_train)\n",
    "w0_mean, ws_mean"
   ]
  },
  {
   "cell_type": "markdown",
   "id": "d552305a",
   "metadata": {},
   "source": [
    "Now, got the two models with two methods from the training session.\n",
    "then let's make the prediciton for validation set to check the result."
   ]
  },
  {
   "cell_type": "markdown",
   "id": "5c12d5c2",
   "metadata": {},
   "source": [
    "### Prediction"
   ]
  },
  {
   "cell_type": "code",
   "execution_count": 225,
   "id": "a4087706",
   "metadata": {},
   "outputs": [
    {
     "data": {
      "text/plain": [
       "array([[-1.2085e+02,  3.7510e+01,  1.5000e+01, ...,  7.2800e+02,\n",
       "         2.8100e+02,  1.5531e+00],\n",
       "       [-1.1825e+02,  3.4090e+01,  5.2000e+01, ...,  1.2110e+03,\n",
       "         4.1700e+02,  2.9350e+00],\n",
       "       [-1.2202e+02,  3.7310e+01,  3.4000e+01, ...,  1.3010e+03,\n",
       "         4.3100e+02,  6.0830e+00],\n",
       "       ...,\n",
       "       [-1.2071e+02,  3.8340e+01,  1.6000e+01, ...,  5.5900e+02,\n",
       "         2.1300e+02,  4.4531e+00],\n",
       "       [-1.1713e+02,  3.2910e+01,  1.6000e+01, ...,  1.6190e+03,\n",
       "         5.8400e+02,  4.0000e+00],\n",
       "       [-1.1793e+02,  3.3710e+01,  1.0000e+01, ...,  1.5810e+03,\n",
       "         6.3300e+02,  4.1366e+00]])"
      ]
     },
     "execution_count": 225,
     "metadata": {},
     "output_type": "execute_result"
    }
   ],
   "source": [
    "# X validation set\n",
    "X_val = prepare_X(df_val)\n",
    "X_val"
   ]
  },
  {
   "cell_type": "code",
   "execution_count": 226,
   "id": "2eabb0b0",
   "metadata": {},
   "outputs": [],
   "source": [
    "# Apply the linear regression model with validation set (0 method)\n",
    "y_pred_0 = w0_zero + X_val.dot(ws_zero)\n",
    "\n",
    "# Apply the linear regression model with validation set (mean method)\n",
    "y_pred_mean = w0_mean + X_val.dot(ws_mean)"
   ]
  },
  {
   "cell_type": "markdown",
   "id": "b9567d7a",
   "metadata": {},
   "source": [
    "### Evaluation"
   ]
  },
  {
   "cell_type": "code",
   "execution_count": 227,
   "id": "98e28e97",
   "metadata": {},
   "outputs": [],
   "source": [
    "def rmse(y, y_pred):\n",
    "    \n",
    "    '''\n",
    "    Get the target lable and target prediction\n",
    "    calculate the rmse and return\n",
    "    '''\n",
    "    \n",
    "    se = (y - y_pred) ** 2\n",
    "    mse = se.mean()\n",
    "    return np.sqrt(mse)"
   ]
  },
  {
   "cell_type": "code",
   "execution_count": 228,
   "id": "2bad7c68",
   "metadata": {},
   "outputs": [
    {
     "name": "stdout",
     "output_type": "stream",
     "text": [
      "the score from 0 method: 0.33\n",
      "the score from mean method: 0.33\n"
     ]
    }
   ],
   "source": [
    "# Calculate RMSE on 0 method\n",
    "score_0 = rmse(y_val, y_pred_0)\n",
    "print(f\"the score from 0 method: {round(score_0, 2)}\")\n",
    "\n",
    "# Calculate RMSE on mean method\n",
    "score_mean = rmse(y_val, y_pred_mean)\n",
    "print(f\"the score from mean method: {round(score_mean, 2)}\")"
   ]
  },
  {
   "cell_type": "code",
   "execution_count": 229,
   "id": "276c7e14",
   "metadata": {},
   "outputs": [
    {
     "data": {
      "image/png": "[encoded data removed]",
      "text/plain": [
       "<Figure size 640x480 with 1 Axes>"
      ]
     },
     "metadata": {},
     "output_type": "display_data"
    }
   ],
   "source": [
    "# Look at prediction from 0 method\n",
    "sns.histplot(y_val, color='blue', alpha=0.3)\n",
    "sns.histplot(y_pred_0, color='red', alpha=0.3)\n",
    "plt.show()"
   ]
  },
  {
   "cell_type": "code",
   "execution_count": 230,
   "id": "a2d88fdb",
   "metadata": {},
   "outputs": [
    {
     "data": {
      "image/png": "[encoded data removed]",
      "text/plain": [
       "<Figure size 640x480 with 1 Axes>"
      ]
     },
     "metadata": {},
     "output_type": "display_data"
    }
   ],
   "source": [
    "# Look at prediction from mean method\n",
    "sns.histplot(y_val, color='blue', alpha=0.3)\n",
    "sns.histplot(y_pred_mean, color='red', alpha=0.3)\n",
    "plt.show()"
   ]
  },
  {
   "cell_type": "markdown",
   "id": "9e8734a3",
   "metadata": {},
   "source": [
    "Now, the results from both method are the same."
   ]
  },
  {
   "cell_type": "markdown",
   "id": "0809bd50",
   "metadata": {},
   "source": [
    "### Question 4\n",
    "\n",
    "- Now let's train a regularized linear regression.\n",
    "- For this question, fill the NAs with 0.\n",
    "- Try different values of r from this list: [0, 0.000001, 0.0001, 0.001, 0.01, 0.1, 1, 5, 10].\n",
    "- Use RMSE to evaluate the model on the validation dataset.\n",
    "- Round the RMSE scores to 2 decimal digits.\n",
    "- Which r gives the best RMSE?\n",
    "\n",
    "\n",
    "If there are multiple options, select the smallest r.\n",
    "\n",
    "Options:\n",
    "\n",
    "- 0\n",
    "- 0.000001\n",
    "- 0.001\n",
    "- 0.0001\n"
   ]
  },
  {
   "cell_type": "code",
   "execution_count": 231,
   "id": "3a313c62",
   "metadata": {},
   "outputs": [],
   "source": [
    "def linear_regression_reg(X, y, r=0):\n",
    "\n",
    "    '''\n",
    "    Get X, y and create the linear regression function and apply \n",
    "    the reguralization method with the training session\n",
    "    return the first weight and the rest as separate value\n",
    "    '''\n",
    "    \n",
    "    ones = np.ones(X.shape[0])\n",
    "    \n",
    "    X = np.column_stack([ones, X])\n",
    "    \n",
    "    XTX = X.T.dot(X)\n",
    "    XTX = XTX + r * np.eye(XTX.shape[0])\n",
    "    XTX_inv = np.linalg.inv(XTX)\n",
    "    w_full = XTX_inv.dot(X.T).dot(y)\n",
    "    \n",
    "    return w_full[0], w_full[1:]"
   ]
  },
  {
   "cell_type": "code",
   "execution_count": 232,
   "id": "ea68c22f",
   "metadata": {},
   "outputs": [
    {
     "data": {
      "text/html": [
       "<div>\n",
       "<style scoped>\n",
       "    .dataframe tbody tr th:only-of-type {\n",
       "        vertical-align: middle;\n",
       "    }\n",
       "\n",
       "    .dataframe tbody tr th {\n",
       "        vertical-align: top;\n",
       "    }\n",
       "\n",
       "    .dataframe thead th {\n",
       "        text-align: right;\n",
       "    }\n",
       "</style>\n",
       "<table border=\"1\" class=\"dataframe\">\n",
       "  <thead>\n",
       "    <tr style=\"text-align: right;\">\n",
       "      <th></th>\n",
       "      <th>regularization</th>\n",
       "      <th>rmse_score</th>\n",
       "      <th>rounded_score</th>\n",
       "    </tr>\n",
       "  </thead>\n",
       "  <tbody>\n",
       "    <tr>\n",
       "      <th>0</th>\n",
       "      <td>0.010000</td>\n",
       "      <td>0.329532</td>\n",
       "      <td>0.33</td>\n",
       "    </tr>\n",
       "    <tr>\n",
       "      <th>1</th>\n",
       "      <td>0.001000</td>\n",
       "      <td>0.329533</td>\n",
       "      <td>0.33</td>\n",
       "    </tr>\n",
       "    <tr>\n",
       "      <th>2</th>\n",
       "      <td>0.000100</td>\n",
       "      <td>0.329533</td>\n",
       "      <td>0.33</td>\n",
       "    </tr>\n",
       "    <tr>\n",
       "      <th>3</th>\n",
       "      <td>0.000001</td>\n",
       "      <td>0.329533</td>\n",
       "      <td>0.33</td>\n",
       "    </tr>\n",
       "    <tr>\n",
       "      <th>4</th>\n",
       "      <td>0.000000</td>\n",
       "      <td>0.329533</td>\n",
       "      <td>0.33</td>\n",
       "    </tr>\n",
       "    <tr>\n",
       "      <th>5</th>\n",
       "      <td>0.100000</td>\n",
       "      <td>0.329695</td>\n",
       "      <td>0.33</td>\n",
       "    </tr>\n",
       "    <tr>\n",
       "      <th>6</th>\n",
       "      <td>1.000000</td>\n",
       "      <td>0.333789</td>\n",
       "      <td>0.33</td>\n",
       "    </tr>\n",
       "    <tr>\n",
       "      <th>7</th>\n",
       "      <td>5.000000</td>\n",
       "      <td>0.339249</td>\n",
       "      <td>0.34</td>\n",
       "    </tr>\n",
       "    <tr>\n",
       "      <th>8</th>\n",
       "      <td>10.000000</td>\n",
       "      <td>0.340606</td>\n",
       "      <td>0.34</td>\n",
       "    </tr>\n",
       "  </tbody>\n",
       "</table>\n",
       "</div>"
      ],
      "text/plain": [
       "   regularization  rmse_score  rounded_score\n",
       "0        0.010000    0.329532           0.33\n",
       "1        0.001000    0.329533           0.33\n",
       "2        0.000100    0.329533           0.33\n",
       "3        0.000001    0.329533           0.33\n",
       "4        0.000000    0.329533           0.33\n",
       "5        0.100000    0.329695           0.33\n",
       "6        1.000000    0.333789           0.33\n",
       "7        5.000000    0.339249           0.34\n",
       "8       10.000000    0.340606           0.34"
      ]
     },
     "execution_count": 232,
     "metadata": {},
     "output_type": "execute_result"
    }
   ],
   "source": [
    "# Apply the linear regression with regularization function with 0 method \n",
    "r_values = [0, 0.000001, 0.0001, 0.001, 0.01, 0.1, 1, 5, 10]\n",
    "rmse_scores = list()\n",
    "\n",
    "for r in r_values:\n",
    "    w0, w = linear_regression_reg(X_train_0, y_train, r=r)\n",
    "    y_pred = w0 + X_val.dot(w)\n",
    "    score = rmse(y_val, y_pred)\n",
    "    \n",
    "    rmse_scores.append(score)\n",
    "\n",
    "df_scores = pd.DataFrame({'regularization': r_values, 'rmse_score': rmse_scores})\n",
    "df_scores['rounded_score'] = round(df_scores['rmse_score'], 2)\n",
    "df_scores = df_scores.sort_values(by=['rmse_score'], ascending=True).reset_index(drop=True)\n",
    "df_scores"
   ]
  },
  {
   "cell_type": "markdown",
   "id": "bb05810d",
   "metadata": {},
   "source": [
    "From the given options of `regularization` parameters. the best result is `0.329532` from regularization with `0.010000`."
   ]
  },
  {
   "cell_type": "markdown",
   "id": "08284bc9",
   "metadata": {},
   "source": [
    "### Question 5\n",
    "- We used seed 42 for splitting the data. Let's find out how selecting the seed influences our score.\n",
    "- Try different seed values: [0, 1, 2, 3, 4, 5, 6, 7, 8, 9].\n",
    "- For each seed, do the train/validation/test split with 60%/20%/20% distribution.\n",
    "- Fill the missing values with 0 and train a model without regularization.\n",
    "- For each seed, evaluate the model on the validation dataset and collect the RMSE scores.\n",
    "- What's the standard deviation of all the scores? To compute the standard deviation, use np.std.\n",
    "- Round the result to 3 decimal digits (round(std, 3))\n",
    "\n",
    "Note: Standard deviation shows how different the values are. If it's low, then all values are approximately the same. If it's high, the values are different. If standard deviation of scores is low, then our model is stable.\n",
    "\n",
    "Options:\n",
    "\n",
    "- 0.16\n",
    "- 0.00005\n",
    "- 0.005\n",
    "- 0.15555"
   ]
  },
  {
   "cell_type": "code",
   "execution_count": 277,
   "id": "0973ff5c",
   "metadata": {},
   "outputs": [
    {
     "data": {
      "text/plain": [
       "[0.33884304805301835,\n",
       " 0.3390390788697872,\n",
       " 0.34923218040157405,\n",
       " 0.3419297993819196,\n",
       " 0.34815786336454374,\n",
       " 0.3443996643814707,\n",
       " 0.34905238454657184,\n",
       " 0.34002331473065117,\n",
       " 0.34127013234886594,\n",
       " 0.3379486120144645]"
      ]
     },
     "execution_count": 277,
     "metadata": {},
     "output_type": "execute_result"
    }
   ],
   "source": [
    "seed_values = [0, 1, 2, 3, 4, 5, 6, 7, 8, 9]\n",
    "scores = list()\n",
    "idx = np.arange(df.shape[0])\n",
    "\n",
    "for seed in seed_values:\n",
    "    \n",
    "    # Set the random seed for each round and shuffle the index\n",
    "    np.random.seed(seed)\n",
    "    np.random.shuffle(idx)\n",
    "    \n",
    "    # Split and shuffle dataset\n",
    "    df_train = df.iloc[idx[:train_num]].reset_index(drop=True)\n",
    "    df_val = df.iloc[idx[train_num:train_num + val_num]].reset_index(drop=True)\n",
    "    df_test = df.iloc[idx[train_num + val_num:]].reset_index(drop=True)\n",
    "    \n",
    "    # Craete target values\n",
    "    y_train = df_train['median_house_value'].values\n",
    "    y_val = df_val['median_house_value'].values\n",
    "    y_test = df_test['median_house_value'].values\n",
    "    \n",
    "    # Apply log transformation with the target values\n",
    "    y_train = np.log1p(y_train)\n",
    "    y_val = np.log1p(y_val)\n",
    "    y_test = np.log1p(y_test)\n",
    "\n",
    "    # Drop the target column from the others.\n",
    "    df_train.drop(columns='median_house_value', axis=1, inplace=True)\n",
    "    df_val.drop(columns='median_house_value', axis=1, inplace=True)\n",
    "    df_test.drop(columns='median_house_value', axis=1, inplace=True)\n",
    "\n",
    "    # Prepare features with 0 method to fill in missing values\n",
    "    X_train_0 = prepare_X(df_train, options=0)\n",
    "    X_val_0 = prepare_X(df_val, options=0)\n",
    "\n",
    "    # Train the model with linear regression\n",
    "    w0, w = linear_regression(X_train_0, y_train)\n",
    "    \n",
    "    # Prediction\n",
    "    y_pred = w0 + X_val_0.dot(w)\n",
    "    \n",
    "    # Evaluate\n",
    "    score = rmse(y_val, y_pred)\n",
    "    \n",
    "    # Log the result\n",
    "    scores.append(score)\n",
    "    \n",
    "scores"
   ]
  },
  {
   "cell_type": "code",
   "execution_count": 280,
   "id": "90f399dc",
   "metadata": {},
   "outputs": [
    {
     "name": "stdout",
     "output_type": "stream",
     "text": [
      "Standard deviation of rmse score: 0.004\n"
     ]
    }
   ],
   "source": [
    "# Calculate standard deviation of rmse score\n",
    "print(f\"Standard deviation of rmse score: {round(np.std(scores), 3)}\")\n"
   ]
  },
  {
   "cell_type": "markdown",
   "id": "16b4b1ee",
   "metadata": {},
   "source": [
    "The closest option for the our standard deviation is `0.005`"
   ]
  },
  {
   "cell_type": "markdown",
   "id": "77fe9d45",
   "metadata": {},
   "source": [
    "### Question 6\n",
    "\n",
    "- Split the dataset like previously, use seed 9.\n",
    "- Combine train and validation datasets.\n",
    "- Fill the missing values with 0 and train a model with r=0.001.\n",
    "- What's the RMSE on the test dataset?\n",
    "\n",
    "Options:\n",
    "\n",
    "- 0.35\n",
    "- 0.135\n",
    "- 0.450\n",
    "- 0.245"
   ]
  },
  {
   "cell_type": "code",
   "execution_count": 283,
   "id": "f5032e6b",
   "metadata": {},
   "outputs": [
    {
     "name": "stdout",
     "output_type": "stream",
     "text": [
      "<class 'pandas.core.frame.DataFrame'>\n",
      "RangeIndex: 16512 entries, 0 to 16511\n",
      "Data columns (total 8 columns):\n",
      " #   Column              Non-Null Count  Dtype  \n",
      "---  ------              --------------  -----  \n",
      " 0   longitude           16512 non-null  float64\n",
      " 1   latitude            16512 non-null  float64\n",
      " 2   housing_median_age  16512 non-null  float64\n",
      " 3   total_rooms         16512 non-null  float64\n",
      " 4   total_bedrooms      16344 non-null  float64\n",
      " 5   population          16512 non-null  float64\n",
      " 6   households          16512 non-null  float64\n",
      " 7   median_income       16512 non-null  float64\n",
      "dtypes: float64(8)\n",
      "memory usage: 1.0 MB\n"
     ]
    },
    {
     "data": {
      "text/html": [
       "<div>\n",
       "<style scoped>\n",
       "    .dataframe tbody tr th:only-of-type {\n",
       "        vertical-align: middle;\n",
       "    }\n",
       "\n",
       "    .dataframe tbody tr th {\n",
       "        vertical-align: top;\n",
       "    }\n",
       "\n",
       "    .dataframe thead th {\n",
       "        text-align: right;\n",
       "    }\n",
       "</style>\n",
       "<table border=\"1\" class=\"dataframe\">\n",
       "  <thead>\n",
       "    <tr style=\"text-align: right;\">\n",
       "      <th></th>\n",
       "      <th>longitude</th>\n",
       "      <th>latitude</th>\n",
       "      <th>housing_median_age</th>\n",
       "      <th>total_rooms</th>\n",
       "      <th>total_bedrooms</th>\n",
       "      <th>population</th>\n",
       "      <th>households</th>\n",
       "      <th>median_income</th>\n",
       "    </tr>\n",
       "  </thead>\n",
       "  <tbody>\n",
       "    <tr>\n",
       "      <th>0</th>\n",
       "      <td>-121.80</td>\n",
       "      <td>38.67</td>\n",
       "      <td>10.0</td>\n",
       "      <td>2086.0</td>\n",
       "      <td>380.0</td>\n",
       "      <td>1073.0</td>\n",
       "      <td>378.0</td>\n",
       "      <td>4.5526</td>\n",
       "    </tr>\n",
       "    <tr>\n",
       "      <th>1</th>\n",
       "      <td>-117.97</td>\n",
       "      <td>33.66</td>\n",
       "      <td>22.0</td>\n",
       "      <td>3914.0</td>\n",
       "      <td>600.0</td>\n",
       "      <td>1871.0</td>\n",
       "      <td>607.0</td>\n",
       "      <td>5.8541</td>\n",
       "    </tr>\n",
       "    <tr>\n",
       "      <th>2</th>\n",
       "      <td>-124.25</td>\n",
       "      <td>40.28</td>\n",
       "      <td>32.0</td>\n",
       "      <td>1430.0</td>\n",
       "      <td>419.0</td>\n",
       "      <td>434.0</td>\n",
       "      <td>187.0</td>\n",
       "      <td>1.9417</td>\n",
       "    </tr>\n",
       "    <tr>\n",
       "      <th>3</th>\n",
       "      <td>-117.11</td>\n",
       "      <td>32.69</td>\n",
       "      <td>37.0</td>\n",
       "      <td>2395.0</td>\n",
       "      <td>627.0</td>\n",
       "      <td>2489.0</td>\n",
       "      <td>599.0</td>\n",
       "      <td>1.5933</td>\n",
       "    </tr>\n",
       "    <tr>\n",
       "      <th>4</th>\n",
       "      <td>-118.37</td>\n",
       "      <td>34.21</td>\n",
       "      <td>36.0</td>\n",
       "      <td>1392.0</td>\n",
       "      <td>326.0</td>\n",
       "      <td>1181.0</td>\n",
       "      <td>303.0</td>\n",
       "      <td>3.1563</td>\n",
       "    </tr>\n",
       "  </tbody>\n",
       "</table>\n",
       "</div>"
      ],
      "text/plain": [
       "   longitude  latitude  housing_median_age  total_rooms  total_bedrooms  \\\n",
       "0    -121.80     38.67                10.0       2086.0           380.0   \n",
       "1    -117.97     33.66                22.0       3914.0           600.0   \n",
       "2    -124.25     40.28                32.0       1430.0           419.0   \n",
       "3    -117.11     32.69                37.0       2395.0           627.0   \n",
       "4    -118.37     34.21                36.0       1392.0           326.0   \n",
       "\n",
       "   population  households  median_income  \n",
       "0      1073.0       378.0         4.5526  \n",
       "1      1871.0       607.0         5.8541  \n",
       "2       434.0       187.0         1.9417  \n",
       "3      2489.0       599.0         1.5933  \n",
       "4      1181.0       303.0         3.1563  "
      ]
     },
     "metadata": {},
     "output_type": "display_data"
    }
   ],
   "source": [
    "np.random.seed(9)\n",
    "idx = np.arange(df.shape[0])\n",
    "np.random.shuffle(idx)\n",
    "\n",
    "df_train = df.iloc[idx[:train_num]].reset_index(drop=True)\n",
    "df_val = df.iloc[idx[train_num:train_num + val_num]].reset_index(drop=True)\n",
    "df_test = df.iloc[idx[train_num + val_num:]].reset_index(drop=True)\n",
    "\n",
    "y_train = df_train['median_house_value'].values\n",
    "y_val = df_val['median_house_value'].values\n",
    "y_test = df_test['median_house_value'].values\n",
    "\n",
    "y_train = np.log1p(y_train)\n",
    "y_val = np.log1p(y_val)\n",
    "y_test = np.log1p(y_test)\n",
    "\n",
    "\n",
    "del df_train['median_house_value']\n",
    "del df_val['median_house_value']\n",
    "del df_test['median_house_value']\n",
    "\n",
    "df_full = pd.concat([df_train, df_val]).reset_index(drop=True)\n",
    "df_full.info()\n",
    "display(df_full.head())\n"
   ]
  },
  {
   "cell_type": "code",
   "execution_count": 289,
   "id": "d1700bb1",
   "metadata": {},
   "outputs": [
    {
     "name": "stdout",
     "output_type": "stream",
     "text": [
      "longitude               0\n",
      "latitude                0\n",
      "housing_median_age      0\n",
      "total_rooms             0\n",
      "total_bedrooms        168\n",
      "population              0\n",
      "households              0\n",
      "median_income           0\n",
      "dtype: int64\n",
      "\n",
      "longitude              0\n",
      "latitude               0\n",
      "housing_median_age     0\n",
      "total_rooms            0\n",
      "total_bedrooms        39\n",
      "population             0\n",
      "households             0\n",
      "median_income          0\n",
      "dtype: int64\n"
     ]
    }
   ],
   "source": [
    "print(df_full.isnull().sum())\n",
    "print()\n",
    "print(df_test.isnull().sum())"
   ]
  },
  {
   "cell_type": "code",
   "execution_count": 292,
   "id": "e0708c8d",
   "metadata": {},
   "outputs": [
    {
     "name": "stdout",
     "output_type": "stream",
     "text": [
      "RMSE score: 0.35\n"
     ]
    }
   ],
   "source": [
    "X_full_train = prepare_X(df_full, options=0)\n",
    "X_test = prepare_X(df_test, options=0)\n",
    "\n",
    "y_full_train = np.concatenate([y_train, y_val])\n",
    "\n",
    "w0, w = linear_regression_reg(X_full_train, y_full_train, r=0.001)\n",
    "y_pred = w0 + X_test.dot(w)\n",
    "\n",
    "score = rmse(y_test, y_pred)\n",
    "print(f\"RMSE score: {round(score, 2)}\")"
   ]
  },
  {
   "cell_type": "code",
   "execution_count": null,
   "id": "b41a030a",
   "metadata": {},
   "outputs": [],
   "source": []
  }
 ],
 "metadata": {
  "kernelspec": {
   "display_name": "Python 3 (ipykernel)",
   "language": "python",
   "name": "python3"
  },
  "language_info": {
   "codemirror_mode": {
    "name": "ipython",
    "version": 3
   },
   "file_extension": ".py",
   "mimetype": "text/x-python",
   "name": "python",
   "nbconvert_exporter": "python",
   "pygments_lexer": "ipython3",
   "version": "3.9.12"
  }
 },
 "nbformat": 4,
 "nbformat_minor": 5
}

{
 "cells": [
  {
   "cell_type": "markdown",
   "id": "ff9cbca4",
   "metadata": {},
   "source": [
    "# HOMEWORK 08-DEEP-LEARNING\n",
    "\n",
    "This homework will classify the image of a dino or a dragon?\n",
    "\n",
    "To get the dataset from kaggle:\n",
    "\n",
    "```bash\n",
    "wget https://github.com/alexeygrigorev/dino-or-dragon/releases/download/data/dino-dragon.zip\n",
    "unzip dino-dragon.zip\n",
    "```\n",
    "\n",
    "## Dataset\n",
    "\n",
    "The dataset contains around 1900 images of dinos and around 1900 images of dragons.\n",
    "\n",
    "The dataset contains separate folders for training and test sets.\n",
    "\n",
    "## Model\n",
    "\n",
    "For this homework we will use Convolutional Neural Network (CNN). Like in the lectures, we'll use Keras.\n",
    "\n",
    "You need to develop the model with following structure:\n",
    "\n",
    "- The shape for input should be (150, 150, 3)\n",
    "- Next, create a convolutional layer (Conv2D):\n",
    "    - Use 32 filters\n",
    "    - Kernel size should be (3, 3) (that's the size of the filter)\n",
    "    - Use 'relu' as activation\n",
    "- Reduce the size of the feature map with max pooling (MaxPooling2D)\n",
    "    - Set the pooling size to (2, 2)\n",
    "- Turn the multi-dimensional result into vectors using a Flatten layer\n",
    "- Next, add a Dense layer with 64 neurons and 'relu' activation\n",
    "- Finally, create the Dense layer with 1 neuron - this will be the output\n",
    "    - The output layer should have an activation - use the appropriate activation for the binary classification case\n",
    "\n",
    "As optimizer use SGD with the following parameters:\n",
    "\n",
    "- SGD(lr=0.002, momentum=0.8)"
   ]
  },
  {
   "cell_type": "markdown",
   "id": "1f791ab5",
   "metadata": {},
   "source": [
    "### Question 1\n",
    "\n",
    "Since we have a binary classification problem, what is the best loss function for us?"
   ]
  },
  {
   "cell_type": "markdown",
   "id": "f11938a6-8c07-4b29-af7c-246c67430f7e",
   "metadata": {},
   "source": [
    "### Import libraries"
   ]
  },
  {
   "cell_type": "code",
   "execution_count": 94,
   "id": "95ca9f22",
   "metadata": {
    "execution": {
     "iopub.execute_input": "2022-11-19T10:22:55.624099Z",
     "iopub.status.busy": "2022-11-19T10:22:55.623712Z",
     "iopub.status.idle": "2022-11-19T10:22:55.628110Z",
     "shell.execute_reply": "2022-11-19T10:22:55.627386Z",
     "shell.execute_reply.started": "2022-11-19T10:22:55.624071Z"
    },
    "tags": []
   },
   "outputs": [],
   "source": [
    "import tensorflow as tf\n",
    "from tensorflow import keras\n",
    "from tensorflow.keras.preprocessing.image import load_img, ImageDataGenerator\n",
    "from tensorflow.keras import datasets, layers, models\n",
    "\n",
    "\n",
    "import pandas as pd\n",
    "import numpy as np\n",
    "\n",
    "import tqdm.auto"
   ]
  },
  {
   "cell_type": "code",
   "execution_count": 2,
   "id": "4489ca43-0079-4298-aab5-711b9f4658e8",
   "metadata": {
    "execution": {
     "iopub.execute_input": "2022-11-19T09:08:04.989807Z",
     "iopub.status.busy": "2022-11-19T09:08:04.989264Z",
     "iopub.status.idle": "2022-11-19T09:08:04.999203Z",
     "shell.execute_reply": "2022-11-19T09:08:04.998444Z",
     "shell.execute_reply.started": "2022-11-19T09:08:04.989781Z"
    }
   },
   "outputs": [
    {
     "data": {
      "text/plain": [
       "'2.9.1'"
      ]
     },
     "execution_count": 2,
     "metadata": {},
     "output_type": "execute_result"
    }
   ],
   "source": [
    "tf.__version__"
   ]
  },
  {
   "cell_type": "code",
   "execution_count": 173,
   "id": "31800bed-58ef-4661-8b73-58e40568929c",
   "metadata": {
    "execution": {
     "iopub.execute_input": "2022-11-19T11:05:10.008825Z",
     "iopub.status.busy": "2022-11-19T11:05:10.008446Z",
     "iopub.status.idle": "2022-11-19T11:05:10.012768Z",
     "shell.execute_reply": "2022-11-19T11:05:10.011950Z",
     "shell.execute_reply.started": "2022-11-19T11:05:10.008799Z"
    },
    "tags": []
   },
   "outputs": [],
   "source": [
    "class Config:\n",
    "    img_size = 150\n",
    "    # seed = 42\n",
    "    learning_rate = 0.02\n",
    "    momentum = 0.8\n",
    "    batch_size = 20\n",
    "    epochs = 10\n"
   ]
  },
  {
   "cell_type": "code",
   "execution_count": 159,
   "id": "aa75059c-d99b-448b-8896-4a30576cab74",
   "metadata": {
    "execution": {
     "iopub.execute_input": "2022-11-19T10:54:56.473791Z",
     "iopub.status.busy": "2022-11-19T10:54:56.473397Z",
     "iopub.status.idle": "2022-11-19T10:54:56.477638Z",
     "shell.execute_reply": "2022-11-19T10:54:56.476831Z",
     "shell.execute_reply.started": "2022-11-19T10:54:56.473767Z"
    },
    "tags": []
   },
   "outputs": [],
   "source": [
    "datasetPath = './dataset/'\n",
    "trainPath = datasetPath + 'train/'\n",
    "testPath = datasetPath + 'test/'\n",
    "config = Config()"
   ]
  },
  {
   "cell_type": "code",
   "execution_count": 128,
   "id": "d98431c3-e29a-4e3a-b90c-b8dd3e38b8de",
   "metadata": {
    "execution": {
     "iopub.execute_input": "2022-11-19T10:34:30.729550Z",
     "iopub.status.busy": "2022-11-19T10:34:30.729162Z",
     "iopub.status.idle": "2022-11-19T10:34:30.823428Z",
     "shell.execute_reply": "2022-11-19T10:34:30.822637Z",
     "shell.execute_reply.started": "2022-11-19T10:34:30.729526Z"
    },
    "tags": []
   },
   "outputs": [
    {
     "name": "stdout",
     "output_type": "stream",
     "text": [
      "Found 1594 images belonging to 2 classes.\n",
      "Found 1594 images belonging to 2 classes.\n"
     ]
    }
   ],
   "source": [
    "img_gen = ImageDataGenerator(rescale=1./255)\n",
    "train_generator = train_gen.flow_from_directory(trainPath,\n",
    "                                         target_size=(config.img_size, config.img_size), \n",
    "                                         batch_size=config.batch_size,\n",
    "                                         class_mode='binary',\n",
    "                                         shuffle=True\n",
    ")\n",
    "\n",
    "test_generator = val_gen.flow_from_directory(trainPath,\n",
    "                                     target_size=(config.img_size, config.img_size),\n",
    "                                     batch_size=config.batch_size,\n",
    "                                     class_mode='binary',\n",
    "                                     shuffle=True\n",
    ")"
   ]
  },
  {
   "cell_type": "code",
   "execution_count": 140,
   "id": "997b1cca-1ba8-4f37-a743-762183366e4a",
   "metadata": {
    "execution": {
     "iopub.execute_input": "2022-11-19T10:41:19.143823Z",
     "iopub.status.busy": "2022-11-19T10:41:19.143419Z",
     "iopub.status.idle": "2022-11-19T10:41:19.179518Z",
     "shell.execute_reply": "2022-11-19T10:41:19.178888Z",
     "shell.execute_reply.started": "2022-11-19T10:41:19.143797Z"
    },
    "tags": []
   },
   "outputs": [],
   "source": [
    "input_shape = (config.img_size, config.img_size, 3)\n",
    "model = models.Sequential()\n",
    "model.add(layers.Conv2D(filters=32, kernel_size=(3, 3), \n",
    "                       activation='relu', input_shape=input_shape))\n",
    "model.add(layers.MaxPooling2D((2,2)))\n",
    "model.add(layers.Flatten())\n",
    "model.add(layers.Dense(64, activation='relu'))\n",
    "model.add(layers.Dense(1))"
   ]
  },
  {
   "cell_type": "code",
   "execution_count": 141,
   "id": "12d2a78e-9ecc-48f2-ac4e-bace67dfc873",
   "metadata": {
    "execution": {
     "iopub.execute_input": "2022-11-19T10:41:19.633675Z",
     "iopub.status.busy": "2022-11-19T10:41:19.633286Z",
     "iopub.status.idle": "2022-11-19T10:41:19.637626Z",
     "shell.execute_reply": "2022-11-19T10:41:19.636884Z",
     "shell.execute_reply.started": "2022-11-19T10:41:19.633650Z"
    },
    "tags": []
   },
   "outputs": [],
   "source": [
    "optimizer = tf.keras.optimizers.SGD(learning_rate=config.learning_rate,\n",
    "                             momentum=config.momentum)\n",
    "\n",
    "loss = tf.keras.losses.BinaryCrossentropy(from_logits=False)"
   ]
  },
  {
   "cell_type": "code",
   "execution_count": 142,
   "id": "7e7a0d5a-5248-48c0-918e-28fe585b9991",
   "metadata": {
    "execution": {
     "iopub.execute_input": "2022-11-19T10:41:19.763467Z",
     "iopub.status.busy": "2022-11-19T10:41:19.763076Z",
     "iopub.status.idle": "2022-11-19T10:41:19.772057Z",
     "shell.execute_reply": "2022-11-19T10:41:19.771354Z",
     "shell.execute_reply.started": "2022-11-19T10:41:19.763442Z"
    },
    "tags": []
   },
   "outputs": [],
   "source": [
    "model.compile(loss=loss, optimizer=optimizer, metrics=['accuracy'])"
   ]
  },
  {
   "cell_type": "markdown",
   "id": "920c022c-f0c7-4c0b-b900-ede9cc607ac6",
   "metadata": {},
   "source": [
    "### Question 2\n",
    "\n",
    "What's the total number of parameters of the model? You can use the summary method for that."
   ]
  },
  {
   "cell_type": "code",
   "execution_count": 143,
   "id": "073c1313-eb20-42fa-b6f5-9812b56c83f3",
   "metadata": {
    "execution": {
     "iopub.execute_input": "2022-11-19T10:41:20.063763Z",
     "iopub.status.busy": "2022-11-19T10:41:20.063380Z",
     "iopub.status.idle": "2022-11-19T10:41:20.081271Z",
     "shell.execute_reply": "2022-11-19T10:41:20.080489Z",
     "shell.execute_reply.started": "2022-11-19T10:41:20.063735Z"
    },
    "tags": []
   },
   "outputs": [
    {
     "name": "stdout",
     "output_type": "stream",
     "text": [
      "Model: \"sequential_4\"\n",
      "_________________________________________________________________\n",
      " Layer (type)                Output Shape              Param #   \n",
      "=================================================================\n",
      " conv2d_21 (Conv2D)          (None, 148, 148, 32)      896       \n",
      "                                                                 \n",
      " max_pooling2d_4 (MaxPooling  (None, 74, 74, 32)       0         \n",
      " 2D)                                                             \n",
      "                                                                 \n",
      " flatten_4 (Flatten)         (None, 175232)            0         \n",
      "                                                                 \n",
      " dense_11 (Dense)            (None, 64)                11214912  \n",
      "                                                                 \n",
      " dense_12 (Dense)            (None, 1)                 65        \n",
      "                                                                 \n",
      "=================================================================\n",
      "Total params: 11,215,873\n",
      "Trainable params: 11,215,873\n",
      "Non-trainable params: 0\n",
      "_________________________________________________________________\n"
     ]
    }
   ],
   "source": [
    "model.summary()"
   ]
  },
  {
   "cell_type": "code",
   "execution_count": 144,
   "id": "ba20a330-56b1-4420-b2cb-69d01a7f0027",
   "metadata": {
    "execution": {
     "iopub.execute_input": "2022-11-19T10:41:20.273850Z",
     "iopub.status.busy": "2022-11-19T10:41:20.273345Z",
     "iopub.status.idle": "2022-11-19T10:43:38.023855Z",
     "shell.execute_reply": "2022-11-19T10:43:38.023155Z",
     "shell.execute_reply.started": "2022-11-19T10:41:20.273827Z"
    },
    "tags": []
   },
   "outputs": [
    {
     "name": "stdout",
     "output_type": "stream",
     "text": [
      "Epoch 1/10\n",
      "80/80 [==============================] - 14s 175ms/step - loss: 7.8953 - accuracy: 0.4774 - val_loss: 7.9116 - val_accuracy: 0.4812\n",
      "Epoch 2/10\n",
      "80/80 [==============================] - 14s 170ms/step - loss: 7.9116 - accuracy: 0.4812 - val_loss: 7.9116 - val_accuracy: 0.4812\n",
      "Epoch 3/10\n",
      "80/80 [==============================] - 14s 173ms/step - loss: 7.9116 - accuracy: 0.4812 - val_loss: 7.9116 - val_accuracy: 0.4812\n",
      "Epoch 4/10\n",
      "80/80 [==============================] - 14s 171ms/step - loss: 7.9116 - accuracy: 0.4812 - val_loss: 7.9116 - val_accuracy: 0.4812\n",
      "Epoch 5/10\n",
      "80/80 [==============================] - 14s 173ms/step - loss: 7.9116 - accuracy: 0.4812 - val_loss: 7.9116 - val_accuracy: 0.4812\n",
      "Epoch 6/10\n",
      "80/80 [==============================] - 14s 174ms/step - loss: 7.9116 - accuracy: 0.4812 - val_loss: 7.9116 - val_accuracy: 0.4812\n",
      "Epoch 7/10\n",
      "80/80 [==============================] - 14s 172ms/step - loss: 7.9116 - accuracy: 0.4812 - val_loss: 7.9116 - val_accuracy: 0.4812\n",
      "Epoch 8/10\n",
      "80/80 [==============================] - 14s 172ms/step - loss: 7.9116 - accuracy: 0.4812 - val_loss: 7.9116 - val_accuracy: 0.4812\n",
      "Epoch 9/10\n",
      "80/80 [==============================] - 14s 171ms/step - loss: 7.9116 - accuracy: 0.4812 - val_loss: 7.9116 - val_accuracy: 0.4812\n",
      "Epoch 10/10\n",
      "80/80 [==============================] - 14s 171ms/step - loss: 7.9116 - accuracy: 0.4812 - val_loss: 7.9116 - val_accuracy: 0.4812\n"
     ]
    }
   ],
   "source": [
    "history = model.fit(train_generator, epochs=10, validation_data=test_generator)"
   ]
  },
  {
   "cell_type": "code",
   "execution_count": 145,
   "id": "5ac5ac1f-d9c6-41a6-a8d4-0f96776e7373",
   "metadata": {
    "execution": {
     "iopub.execute_input": "2022-11-19T10:43:38.025513Z",
     "iopub.status.busy": "2022-11-19T10:43:38.025199Z",
     "iopub.status.idle": "2022-11-19T10:43:38.166801Z",
     "shell.execute_reply": "2022-11-19T10:43:38.165991Z",
     "shell.execute_reply.started": "2022-11-19T10:43:38.025490Z"
    },
    "tags": []
   },
   "outputs": [
    {
     "data": {
      "text/plain": [
       "<matplotlib.legend.Legend at 0x7f032069a5e0>"
      ]
     },
     "execution_count": 145,
     "metadata": {},
     "output_type": "execute_result"
    },
    {
     "data": {
      "image/png": "[encoded data removed]",
      "text/plain": [
       "<Figure size 640x480 with 1 Axes>"
      ]
     },
     "metadata": {},
     "output_type": "display_data"
    }
   ],
   "source": [
    "import matplotlib.pyplot as plt\n",
    "\n",
    "plt.plot(history.history['loss'], label='val')\n",
    "plt.xticks(np.arange(10))\n",
    "plt.xlabel('Epoch')\n",
    "plt.ylabel('Training Loss')\n",
    "plt.grid()\n",
    "plt.legend()"
   ]
  },
  {
   "cell_type": "code",
   "execution_count": 146,
   "id": "38d9e8f8-ac15-494b-895f-a4f41da3f35e",
   "metadata": {
    "execution": {
     "iopub.execute_input": "2022-11-19T10:43:38.168327Z",
     "iopub.status.busy": "2022-11-19T10:43:38.167789Z",
     "iopub.status.idle": "2022-11-19T10:43:38.173074Z",
     "shell.execute_reply": "2022-11-19T10:43:38.172306Z",
     "shell.execute_reply.started": "2022-11-19T10:43:38.168303Z"
    },
    "tags": []
   },
   "outputs": [
    {
     "data": {
      "text/plain": [
       "dict_keys(['loss', 'accuracy', 'val_loss', 'val_accuracy'])"
      ]
     },
     "execution_count": 146,
     "metadata": {},
     "output_type": "execute_result"
    }
   ],
   "source": [
    "history.history.keys()"
   ]
  },
  {
   "cell_type": "markdown",
   "id": "bb0d82d6-412f-4901-9c20-97056529003a",
   "metadata": {},
   "source": [
    "### Question 3\n",
    "\n",
    "What is the median of training accuracy for all the epochs for this model?\n",
    "\n",
    "- 0.40\n",
    "- 0.60\n",
    "- 0.90\n",
    "- 0.20\n"
   ]
  },
  {
   "cell_type": "code",
   "execution_count": 162,
   "id": "893ca7db-23f6-47a4-bf52-65303ce9c9e9",
   "metadata": {
    "execution": {
     "iopub.execute_input": "2022-11-19T10:56:35.313557Z",
     "iopub.status.busy": "2022-11-19T10:56:35.313165Z",
     "iopub.status.idle": "2022-11-19T10:56:35.317794Z",
     "shell.execute_reply": "2022-11-19T10:56:35.317192Z",
     "shell.execute_reply.started": "2022-11-19T10:56:35.313533Z"
    },
    "tags": []
   },
   "outputs": [
    {
     "name": "stdout",
     "output_type": "stream",
     "text": [
      "The median of the training accuracy is : 0.481\n"
     ]
    }
   ],
   "source": [
    "median_train_acc = np.median(history.history[\"accuracy\"])\n",
    "print('The median of the training accuracy is : %2.3f' %median_train_acc)"
   ]
  },
  {
   "cell_type": "markdown",
   "id": "885159b1-92ab-4763-8f52-8c00869c60a4",
   "metadata": {},
   "source": [
    "### Question 4\n",
    "\n",
    "What is the standard deviation of training loss for all the epochs for this model?\n",
    "\n",
    "- 0.11\n",
    "- 0.66\n",
    "- 0.99\n",
    "- 0.33"
   ]
  },
  {
   "cell_type": "code",
   "execution_count": 161,
   "id": "0032987c-fc15-45b0-9e17-0107b4747b20",
   "metadata": {
    "execution": {
     "iopub.execute_input": "2022-11-19T10:56:12.503840Z",
     "iopub.status.busy": "2022-11-19T10:56:12.503439Z",
     "iopub.status.idle": "2022-11-19T10:56:12.508060Z",
     "shell.execute_reply": "2022-11-19T10:56:12.507326Z",
     "shell.execute_reply.started": "2022-11-19T10:56:12.503810Z"
    },
    "tags": []
   },
   "outputs": [
    {
     "name": "stdout",
     "output_type": "stream",
     "text": [
      "The stadard deviation of the training loss is : 0.001\n"
     ]
    }
   ],
   "source": [
    "std_train_loss = np.std(history.history[\"accuracy\"])\n",
    "print('The stadard deviation of the training loss is : %2.3f' % std_train_loss)"
   ]
  },
  {
   "cell_type": "markdown",
   "id": "2daeef48-ca5a-478f-a006-6a0d88eea763",
   "metadata": {},
   "source": [
    "### Data Augmentation\n",
    "\n",
    "For the next two questions, we'll generate more data using data augmentations.\n",
    "\n",
    "Add the following augmentations to your training data generator:\n",
    "\n",
    "- rotation_range=40,\n",
    "- width_shift_range=0.2,\n",
    "- height_shift_range=0.2,\n",
    "- shear_range=0.2,\n",
    "- zoom_range=0.2,\n",
    "- horizontal_flip=True,\n",
    "- fill_mode='nearest'"
   ]
  },
  {
   "cell_type": "code",
   "execution_count": 174,
   "id": "e5199de0-6e89-4f6c-8fa7-a22e99ab5e24",
   "metadata": {
    "execution": {
     "iopub.execute_input": "2022-11-19T11:05:17.283802Z",
     "iopub.status.busy": "2022-11-19T11:05:17.283420Z",
     "iopub.status.idle": "2022-11-19T11:05:17.287813Z",
     "shell.execute_reply": "2022-11-19T11:05:17.287030Z",
     "shell.execute_reply.started": "2022-11-19T11:05:17.283774Z"
    }
   },
   "outputs": [],
   "source": [
    "class Augment:\n",
    "    rotation_range = 40\n",
    "    width_shift_range = 0.2\n",
    "    height_shift_range = 0.2\n",
    "    shear_range = 0.2\n",
    "    zoom_range = 0.2\n",
    "    horizontal_flip = True\n",
    "    fill_mode = 'nearest'"
   ]
  },
  {
   "cell_type": "markdown",
   "id": "cb5d1cc8-94a2-4983-81a4-93068d4394c1",
   "metadata": {},
   "source": [
    "### Question 5\n",
    "\n",
    "Let's train our model for 10 more epochs using the same code as previously. Make sure you don't re-create the model - we want to continue training the model we already started training.\n",
    "\n",
    "What is the mean of test loss for all the epochs for the model trained with augmentations?\n",
    "\n",
    "- 0.15\n",
    "- 0.77\n",
    "- 0.37\n",
    "- 0.97"
   ]
  },
  {
   "cell_type": "code",
   "execution_count": 155,
   "id": "7e0be9bc-510b-4098-8725-606303416d54",
   "metadata": {
    "execution": {
     "iopub.execute_input": "2022-11-19T10:51:59.508855Z",
     "iopub.status.busy": "2022-11-19T10:51:59.508472Z",
     "iopub.status.idle": "2022-11-19T10:51:59.558713Z",
     "shell.execute_reply": "2022-11-19T10:51:59.557935Z",
     "shell.execute_reply.started": "2022-11-19T10:51:59.508828Z"
    },
    "tags": []
   },
   "outputs": [
    {
     "name": "stdout",
     "output_type": "stream",
     "text": [
      "Found 1594 images belonging to 2 classes.\n"
     ]
    }
   ],
   "source": [
    "Augmentor = Augment()\n",
    "img_aug = ImageDataGenerator(rescale=1./255,\n",
    "                             rotation_range=Augmentor.rotation_range,\n",
    "                             width_shift_range=Augmentor.width_shift_range,\n",
    "                             height_shift_range=Augmentor.height_shift_range,\n",
    "                             shear_range=Augmentor.shear_range,\n",
    "                             zoom_range=Augmentor.zoom_range,\n",
    "                             horizontal_flip=Augmentor.horizontal_flip,\n",
    "                             fill_mode=Augmentor.fill_mode)\n",
    "\n",
    "train_generator_aug = img_aug.flow_from_directory(trainPath,\n",
    "                                                  target_size=(config.img_size, config.img_size),\n",
    "                                                  class_mode='binary',\n",
    "                                                  batch_size=config.batch_size\n",
    ")"
   ]
  },
  {
   "cell_type": "code",
   "execution_count": 166,
   "id": "7c8403b9-2032-483f-a07f-2d338e00e11f",
   "metadata": {
    "execution": {
     "iopub.execute_input": "2022-11-19T10:58:44.343092Z",
     "iopub.status.busy": "2022-11-19T10:58:44.342706Z",
     "iopub.status.idle": "2022-11-19T11:02:05.224461Z",
     "shell.execute_reply": "2022-11-19T11:02:05.223685Z",
     "shell.execute_reply.started": "2022-11-19T10:58:44.343067Z"
    },
    "tags": []
   },
   "outputs": [
    {
     "name": "stdout",
     "output_type": "stream",
     "text": [
      "Epoch 1/10\n",
      "80/80 [==============================] - 20s 252ms/step - loss: 7.9116 - accuracy: 0.4812 - val_loss: 7.9116 - val_accuracy: 0.4812\n",
      "Epoch 2/10\n",
      "80/80 [==============================] - 20s 251ms/step - loss: 7.9116 - accuracy: 0.4812 - val_loss: 7.9116 - val_accuracy: 0.4812\n",
      "Epoch 3/10\n",
      "80/80 [==============================] - 20s 251ms/step - loss: 7.9116 - accuracy: 0.4812 - val_loss: 7.9116 - val_accuracy: 0.4812\n",
      "Epoch 4/10\n",
      "80/80 [==============================] - 20s 250ms/step - loss: 7.9116 - accuracy: 0.4812 - val_loss: 7.9116 - val_accuracy: 0.4812\n",
      "Epoch 5/10\n",
      "80/80 [==============================] - 20s 252ms/step - loss: 7.9116 - accuracy: 0.4812 - val_loss: 7.9116 - val_accuracy: 0.4812\n",
      "Epoch 6/10\n",
      "80/80 [==============================] - 20s 251ms/step - loss: 7.9116 - accuracy: 0.4812 - val_loss: 7.9116 - val_accuracy: 0.4812\n",
      "Epoch 7/10\n",
      "80/80 [==============================] - 20s 250ms/step - loss: 7.9116 - accuracy: 0.4812 - val_loss: 7.9116 - val_accuracy: 0.4812\n",
      "Epoch 8/10\n",
      "80/80 [==============================] - 20s 253ms/step - loss: 7.9116 - accuracy: 0.4812 - val_loss: 7.9116 - val_accuracy: 0.4812\n",
      "Epoch 9/10\n",
      "80/80 [==============================] - 20s 253ms/step - loss: 7.9116 - accuracy: 0.4812 - val_loss: 7.9116 - val_accuracy: 0.4812\n",
      "Epoch 10/10\n",
      "80/80 [==============================] - 20s 252ms/step - loss: 7.9116 - accuracy: 0.4812 - val_loss: 7.9116 - val_accuracy: 0.4812\n"
     ]
    }
   ],
   "source": [
    "history_aug = model.fit(train_generator_aug,\n",
    "                        epochs=config.epochs,\n",
    "                        validation_data=test_generator,\n",
    ")                        "
   ]
  },
  {
   "cell_type": "code",
   "execution_count": 170,
   "id": "5ab5883a-91ed-46f9-a20b-b6b02e8caf63",
   "metadata": {
    "execution": {
     "iopub.execute_input": "2022-11-19T11:04:08.273720Z",
     "iopub.status.busy": "2022-11-19T11:04:08.273332Z",
     "iopub.status.idle": "2022-11-19T11:04:08.278268Z",
     "shell.execute_reply": "2022-11-19T11:04:08.277442Z",
     "shell.execute_reply.started": "2022-11-19T11:04:08.273696Z"
    },
    "tags": []
   },
   "outputs": [
    {
     "name": "stdout",
     "output_type": "stream",
     "text": [
      "mean_val_loss 7.912\n"
     ]
    }
   ],
   "source": [
    "mean_val_loss_aug = np.mean(history_aug.history[\"val_loss\"])\n",
    "print(\"mean_val_loss %2.3f\" % mean_val_loss_aug)"
   ]
  },
  {
   "cell_type": "code",
   "execution_count": 175,
   "id": "542dced8-adad-4fd3-ab1d-84171d97f433",
   "metadata": {
    "execution": {
     "iopub.execute_input": "2022-11-19T11:06:37.049648Z",
     "iopub.status.busy": "2022-11-19T11:06:37.049249Z",
     "iopub.status.idle": "2022-11-19T11:06:37.187115Z",
     "shell.execute_reply": "2022-11-19T11:06:37.186383Z",
     "shell.execute_reply.started": "2022-11-19T11:06:37.049622Z"
    },
    "tags": []
   },
   "outputs": [
    {
     "data": {
      "text/plain": [
       "<matplotlib.legend.Legend at 0x7f02c03bba60>"
      ]
     },
     "execution_count": 175,
     "metadata": {},
     "output_type": "execute_result"
    },
    {
     "data": {
      "image/png": "[encoded data removed]",
      "text/plain": [
       "<Figure size 640x480 with 1 Axes>"
      ]
     },
     "metadata": {},
     "output_type": "display_data"
    }
   ],
   "source": [
    "plt.plot(history_aug.history['val_loss'], label='val')\n",
    "plt.xticks(np.arange(10))\n",
    "plt.xlabel('Epoch')\n",
    "plt.ylabel('Training Loss')\n",
    "plt.grid()\n",
    "plt.legend()"
   ]
  },
  {
   "cell_type": "markdown",
   "id": "75cfaef1-5247-46b1-8f8c-bd25eeebbb5c",
   "metadata": {},
   "source": [
    "### Question 6\n",
    "\n",
    "What's the average of test accuracy for the last 5 epochs (from 6 to 10) for the model trained with augmentations?\n",
    "\n",
    "- 0.84\n",
    "- 0.54\n",
    "- 0.44\n",
    "- 0.24"
   ]
  },
  {
   "cell_type": "code",
   "execution_count": 172,
   "id": "64dabaa8-e645-43ce-9880-6e47131007a9",
   "metadata": {
    "execution": {
     "iopub.execute_input": "2022-11-19T11:04:35.644114Z",
     "iopub.status.busy": "2022-11-19T11:04:35.643724Z",
     "iopub.status.idle": "2022-11-19T11:04:35.648327Z",
     "shell.execute_reply": "2022-11-19T11:04:35.647654Z",
     "shell.execute_reply.started": "2022-11-19T11:04:35.644086Z"
    },
    "tags": []
   },
   "outputs": [
    {
     "name": "stdout",
     "output_type": "stream",
     "text": [
      "mean_val_acc_last_five 0.481\n"
     ]
    }
   ],
   "source": [
    "mean_val_acc_last_five_aug = np.mean(history_aug.history[\"val_accuracy\"][5:])\n",
    "print(\"mean_val_acc_last_five %2.3f\" % mean_val_acc_last_five_aug)"
   ]
  },
  {
   "cell_type": "code",
   "execution_count": null,
   "id": "f259ca30-561b-4ee2-8ade-33c66e242718",
   "metadata": {},
   "outputs": [],
   "source": []
  }
 ],
 "metadata": {
  "kernelspec": {
   "display_name": "saturn (Python 3)",
   "language": "python",
   "name": "python3"
  },
  "language_info": {
   "codemirror_mode": {
    "name": "ipython",
    "version": 3
   },
   "file_extension": ".py",
   "mimetype": "text/x-python",
   "name": "python",
   "nbconvert_exporter": "python",
   "pygments_lexer": "ipython3",
   "version": "3.9.13"
  }
 },
 "nbformat": 4,
 "nbformat_minor": 5
}

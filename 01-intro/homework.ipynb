{
 "cells": [
  {
   "cell_type": "code",
   "execution_count": 2,
   "metadata": {},
   "outputs": [],
   "source": [
    "import pandas as pd\n",
    "import numpy as np\n",
    "import matplotlib.pyplot as plt"
   ]
  },
  {
   "cell_type": "markdown",
   "metadata": {},
   "source": [
    "# Session #1 Homework"
   ]
  },
  {
   "cell_type": "markdown",
   "metadata": {},
   "source": [
    "## Set up the environment\n",
    "\n",
    "install \n",
    "- Python\n",
    "- Numpy\n",
    "- Pandas\n",
    "- Matplotlib\n",
    "- Seaborn"
   ]
  },
  {
   "cell_type": "markdown",
   "metadata": {},
   "source": [
    "### Question 1\n",
    "\n",
    "What's the version of NumPy that you installed?"
   ]
  },
  {
   "cell_type": "code",
   "execution_count": 3,
   "metadata": {},
   "outputs": [
    {
     "data": {
      "text/plain": [
       "'1.21.5'"
      ]
     },
     "execution_count": 3,
     "metadata": {},
     "output_type": "execute_result"
    }
   ],
   "source": [
    "np.__version__"
   ]
  },
  {
   "cell_type": "markdown",
   "metadata": {},
   "source": [
    "### Question 2\n",
    "\n",
    "How many records are in the dataset?"
   ]
  },
  {
   "cell_type": "code",
   "execution_count": 4,
   "metadata": {},
   "outputs": [
    {
     "name": "stdout",
     "output_type": "stream",
     "text": [
      "<class 'pandas.core.frame.DataFrame'>\n",
      "RangeIndex: 11914 entries, 0 to 11913\n",
      "Data columns (total 16 columns):\n",
      " #   Column             Non-Null Count  Dtype  \n",
      "---  ------             --------------  -----  \n",
      " 0   Make               11914 non-null  object \n",
      " 1   Model              11914 non-null  object \n",
      " 2   Year               11914 non-null  int64  \n",
      " 3   Engine Fuel Type   11911 non-null  object \n",
      " 4   Engine HP          11845 non-null  float64\n",
      " 5   Engine Cylinders   11884 non-null  float64\n",
      " 6   Transmission Type  11914 non-null  object \n",
      " 7   Driven_Wheels      11914 non-null  object \n",
      " 8   Number of Doors    11908 non-null  float64\n",
      " 9   Market Category    8172 non-null   object \n",
      " 10  Vehicle Size       11914 non-null  object \n",
      " 11  Vehicle Style      11914 non-null  object \n",
      " 12  highway MPG        11914 non-null  int64  \n",
      " 13  city mpg           11914 non-null  int64  \n",
      " 14  Popularity         11914 non-null  int64  \n",
      " 15  MSRP               11914 non-null  int64  \n",
      "dtypes: float64(3), int64(5), object(8)\n",
      "memory usage: 1.5+ MB\n"
     ]
    }
   ],
   "source": [
    "df = pd.read_csv(\"./dataset/data.csv\")\n",
    "df.info()"
   ]
  },
  {
   "cell_type": "markdown",
   "metadata": {},
   "source": [
    "### Question 3\n",
    "\n",
    "The most popular car manufactureers"
   ]
  },
  {
   "cell_type": "code",
   "execution_count": 5,
   "metadata": {},
   "outputs": [
    {
     "data": {
      "text/html": [
       "<div>\n",
       "<style scoped>\n",
       "    .dataframe tbody tr th:only-of-type {\n",
       "        vertical-align: middle;\n",
       "    }\n",
       "\n",
       "    .dataframe tbody tr th {\n",
       "        vertical-align: top;\n",
       "    }\n",
       "\n",
       "    .dataframe thead th {\n",
       "        text-align: right;\n",
       "    }\n",
       "</style>\n",
       "<table border=\"1\" class=\"dataframe\">\n",
       "  <thead>\n",
       "    <tr style=\"text-align: right;\">\n",
       "      <th></th>\n",
       "      <th>index</th>\n",
       "      <th>Make</th>\n",
       "    </tr>\n",
       "  </thead>\n",
       "  <tbody>\n",
       "    <tr>\n",
       "      <th>0</th>\n",
       "      <td>Chevrolet</td>\n",
       "      <td>1123</td>\n",
       "    </tr>\n",
       "    <tr>\n",
       "      <th>1</th>\n",
       "      <td>Ford</td>\n",
       "      <td>881</td>\n",
       "    </tr>\n",
       "    <tr>\n",
       "      <th>2</th>\n",
       "      <td>Volkswagen</td>\n",
       "      <td>809</td>\n",
       "    </tr>\n",
       "  </tbody>\n",
       "</table>\n",
       "</div>"
      ],
      "text/plain": [
       "        index  Make\n",
       "0   Chevrolet  1123\n",
       "1        Ford   881\n",
       "2  Volkswagen   809"
      ]
     },
     "execution_count": 5,
     "metadata": {},
     "output_type": "execute_result"
    }
   ],
   "source": [
    "popular_car_df = df.Make.value_counts().reset_index()\n",
    "popular_car_df[:3]\n"
   ]
  },
  {
   "cell_type": "markdown",
   "metadata": {},
   "source": [
    "### Question 4\n",
    "\n",
    "Number of unique Audi car models\n"
   ]
  },
  {
   "cell_type": "code",
   "execution_count": 6,
   "metadata": {},
   "outputs": [
    {
     "data": {
      "text/plain": [
       "34"
      ]
     },
     "execution_count": 6,
     "metadata": {},
     "output_type": "execute_result"
    }
   ],
   "source": [
    "audi_df = df[df.Make == \"Audi\"].reset_index()\n",
    "audi_count = audi_df.Model.value_counts()\n",
    "len(audi_count)"
   ]
  },
  {
   "cell_type": "markdown",
   "metadata": {},
   "source": [
    "### Question 5\n",
    "\n",
    "Number of columns with missing values"
   ]
  },
  {
   "cell_type": "code",
   "execution_count": 55,
   "metadata": {},
   "outputs": [
    {
     "name": "stdout",
     "output_type": "stream",
     "text": [
      "False    11914\n",
      "Name: Make, dtype: int64\n",
      "False    11914\n",
      "Name: Model, dtype: int64\n",
      "False    11914\n",
      "Name: Year, dtype: int64\n",
      "False    11911\n",
      "True         3\n",
      "Name: Engine Fuel Type, dtype: int64\n",
      "False    11845\n",
      "True        69\n",
      "Name: Engine HP, dtype: int64\n",
      "False    11884\n",
      "True        30\n",
      "Name: Engine Cylinders, dtype: int64\n",
      "False    11914\n",
      "Name: Transmission Type, dtype: int64\n",
      "False    11914\n",
      "Name: Driven_Wheels, dtype: int64\n",
      "False    11908\n",
      "True         6\n",
      "Name: Number of Doors, dtype: int64\n",
      "False    8172\n",
      "True     3742\n",
      "Name: Market Category, dtype: int64\n",
      "False    11914\n",
      "Name: Vehicle Size, dtype: int64\n",
      "False    11914\n",
      "Name: Vehicle Style, dtype: int64\n",
      "False    11914\n",
      "Name: highway MPG, dtype: int64\n",
      "False    11914\n",
      "Name: city mpg, dtype: int64\n",
      "False    11914\n",
      "Name: Popularity, dtype: int64\n",
      "False    11914\n",
      "Name: MSRP, dtype: int64\n"
     ]
    }
   ],
   "source": [
    "col_name = df.columns\n",
    "\n",
    "null = dict()\n",
    "for col in col_name:\n",
    "    null[col] = df[col].isnull().value_counts()\n",
    "    \n",
    "for col in col_name:\n",
    "    print(null[col])"
   ]
  },
  {
   "cell_type": "markdown",
   "metadata": {},
   "source": [
    "### Question 6\n",
    "\n",
    "Does the median value change after filling missing values?"
   ]
  },
  {
   "cell_type": "code",
   "execution_count": 47,
   "metadata": {},
   "outputs": [
    {
     "name": "stdout",
     "output_type": "stream",
     "text": [
      "before fill: 6.0\n",
      "\n",
      "mode 0    4.0\n",
      "Name: Engine Cylinders, dtype: float64\n",
      "\n",
      "after fill: 6.0\n"
     ]
    }
   ],
   "source": [
    "# Find the median value of \"Engine Cylinders\" column in the dataset\n",
    "before = df['Engine Cylinders'].median()\n",
    "print(f\"before fill: {before}\\n\")\n",
    "\n",
    "# Calculate the most frequent value of \"Engine Cylinders\"\n",
    "mode = df[\"Engine Cylinders\"].mode()\n",
    "print(f\"mode {mode}\\n\")\n",
    "\n",
    "# fillna with mode of \"Engine Cylinders\"\n",
    "df['Engine Cylinders'] = df['Engine Cylinders'].fillna(mode)\n",
    "\n",
    "# Calculate the median again\n",
    "after = df['Engine Cylinders'].median()\n",
    "print(f\"after fill: {after}\")\n",
    "   "
   ]
  },
  {
   "cell_type": "markdown",
   "metadata": {},
   "source": [
    "### Question 7\n",
    "\n",
    "Value of the first element of w"
   ]
  },
  {
   "cell_type": "code",
   "execution_count": 42,
   "metadata": {},
   "outputs": [
    {
     "name": "stdout",
     "output_type": "stream",
     "text": [
      "Numpy array of X: [[189.   4.]\n",
      " [218.   4.]\n",
      " [217.   4.]\n",
      " [350.   8.]\n",
      " [400.   6.]\n",
      " [276.   6.]\n",
      " [345.   6.]\n",
      " [257.   4.]\n",
      " [240.   4.]]\n",
      "\n",
      "X transpose: [[189. 218. 217. 350. 400. 276. 345. 257. 240.]\n",
      " [  4.   4.   4.   8.   6.   6.   6.   4.   4.]]\n",
      "\n",
      "Dot product of X [[7.31684e+05 1.34100e+04]\n",
      " [1.34100e+04 2.52000e+02]]\n",
      "\n",
      " Inverse of XTX: [[ 5.53084235e-05 -2.94319825e-03]\n",
      " [-2.94319825e-03  1.60588447e-01]]\n",
      "\n",
      "y: [1100  800  750  850 1300 1000 1000 1300  800]\n",
      "\n",
      "w: 4.5949448100945744\n"
     ]
    }
   ],
   "source": [
    "# Select all the \"Lotus\" cars from the dataset\n",
    "lotus_df = df[df.Make == \"Lotus\"]\n",
    "\n",
    "# Select only columns \"Engine HP\", \"Engine Cylinders\"\n",
    "lotus_df = lotus_df[['Engine HP', 'Engine Cylinders']]\n",
    "\n",
    "# Drop duplicated rows using drop_duplicates\n",
    "no_dups_lotus_df = lotus_df.drop_duplicates()\n",
    "X = no_dups_lotus_df.values\n",
    "print(f\"Numpy array of X: {X}\\n\")\n",
    "# print(X.shape)\n",
    "\n",
    "# Compute matrix-matrix multiplication between the transpose of X and X\n",
    "XT = X.T\n",
    "print(f\"X transpose: {XT}\\n\")\n",
    "# print(XT.shape)\n",
    "\n",
    "# Dot product\n",
    "XTX = XT.dot(X)\n",
    "print(f\"Dot product of X {XTX}\\n\")\n",
    "\n",
    "# Invert XTX\n",
    "IXTX = np.linalg.inv(XTX)\n",
    "print(f\" Inverse of XTX: {IXTX}\\n\")\n",
    "\n",
    "\n",
    "# Create an array y with values below\n",
    "y = np.array([1100, 800, 750, 850, 1300, 1000, 1000, 1300, 800])\n",
    "print(f\"y: {y}\\n\")\n",
    "\n",
    "# Multiple the inverse of XTX with the transpose of X multiple the result by Y assign to w\n",
    "w = IXTX.dot(XT).dot(y)[0]\n",
    "print(f\"w: {w}\")"
   ]
  }
 ],
 "metadata": {
  "kernelspec": {
   "display_name": "Python 3.9.12 ('ml-zoomcamp')",
   "language": "python",
   "name": "python3"
  },
  "language_info": {
   "codemirror_mode": {
    "name": "ipython",
    "version": 3
   },
   "file_extension": ".py",
   "mimetype": "text/x-python",
   "name": "python",
   "nbconvert_exporter": "python",
   "pygments_lexer": "ipython3",
   "version": "3.9.12"
  },
  "orig_nbformat": 4,
  "vscode": {
   "interpreter": {
    "hash": "06a1930750d6205fbc5b9cbc24ce6e612e9b2e8f6d37837deea9c51de43e6482"
   }
  }
 },
 "nbformat": 4,
 "nbformat_minor": 2
}
